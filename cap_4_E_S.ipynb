{
  "nbformat": 4,
  "nbformat_minor": 0,
  "metadata": {
    "colab": {
      "provenance": [],
      "authorship_tag": "ABX9TyPlOV8OJcy958qDfyrvcvwm",
      "include_colab_link": true
    },
    "kernelspec": {
      "name": "python3",
      "display_name": "Python 3"
    },
    "language_info": {
      "name": "python"
    }
  },
  "cells": [
    {
      "cell_type": "markdown",
      "metadata": {
        "id": "view-in-github",
        "colab_type": "text"
      },
      "source": [
        "<a href=\"https://colab.research.google.com/github/alexgar76/curso_python/blob/main/cap_4_E_S.ipynb\" target=\"_parent\"><img src=\"https://colab.research.google.com/assets/colab-badge.svg\" alt=\"Open In Colab\"/></a>"
      ]
    },
    {
      "cell_type": "code",
      "execution_count": 3,
      "metadata": {
        "colab": {
          "base_uri": "https://localhost:8080/"
        },
        "id": "-zsSy5ZcyGPm",
        "outputId": "e3aec707-5714-4a83-e445-3d4f728950de"
      },
      "outputs": [
        {
          "output_type": "stream",
          "name": "stdout",
          "text": [
            "ingresa tu nombre\n",
            "alex\n",
            "su nombre es alex\n"
          ]
        }
      ],
      "source": [
        "#funcion INPUT\n",
        "print(\"ingresa tu nombre\")\n",
        "nombre =input()\n",
        "print(\"su nombre es\" + ' ' +  nombre)"
      ]
    },
    {
      "cell_type": "code",
      "source": [
        "#conversion de tipos de variables\n",
        "edad=int(input(\"ingrese su edad: \"))\n",
        "mitadDeEdad=edad/2\n",
        "print(mitadDeEdad)"
      ],
      "metadata": {
        "colab": {
          "base_uri": "https://localhost:8080/"
        },
        "id": "z1wFoJgD6JKe",
        "outputId": "5585fdd5-c835-458c-dd7e-6936493d067e"
      },
      "execution_count": 5,
      "outputs": [
        {
          "output_type": "stream",
          "name": "stdout",
          "text": [
            "ingrese su edad: 48\n",
            "24.0\n"
          ]
        }
      ]
    },
    {
      "cell_type": "code",
      "source": [
        "#conversion de tipos de variables 2\n",
        "edadPadre=input(\"ingrese edad padre: \")\n",
        "edadMadre=int(input(\"Ingrese Edad madre: \"))\n",
        "estaturaPadre=float(input(\"ingrese Estatura: \"))\n",
        "print(type(edadPadre))\n",
        "print(type(edadMadre))\n",
        "print(type(estaturaPadre))\n",
        "print(edadPadre)\n",
        "print(edadMadre)\n",
        "print(estaturaPadre)"
      ],
      "metadata": {
        "colab": {
          "base_uri": "https://localhost:8080/"
        },
        "id": "bjUVU9_u7xkR",
        "outputId": "2ce62856-e678-4119-8914-84fdfc5aa7c2"
      },
      "execution_count": 7,
      "outputs": [
        {
          "output_type": "stream",
          "name": "stdout",
          "text": [
            "ingrese edad padre: 48\n",
            "Ingrese Edad madre: 45\n",
            "ingrese Estatura: 1.85\n",
            "<class 'str'>\n",
            "<class 'int'>\n",
            "<class 'float'>\n",
            "48\n",
            "45\n",
            "1.85\n"
          ]
        }
      ]
    },
    {
      "cell_type": "code",
      "source": [
        "#Concatenar\n",
        "nombreProducto= \"televisor\"\n",
        "precioProducto= 200\n",
        "print(\"nombre\" + nombreProducto)\n",
        "print(\"precio\" + precioProducto) #\"\"\"este codigo marca error, por que solo se puede concatenar datos tipo string\"\"\""
      ],
      "metadata": {
        "colab": {
          "base_uri": "https://localhost:8080/",
          "height": 193
        },
        "id": "Xshi_hbEALe4",
        "outputId": "5da6260c-41df-4de4-a721-954a2c0c58e3"
      },
      "execution_count": 12,
      "outputs": [
        {
          "output_type": "stream",
          "name": "stdout",
          "text": [
            "nombretelevisor\n"
          ]
        },
        {
          "output_type": "error",
          "ename": "TypeError",
          "evalue": "can only concatenate str (not \"int\") to str",
          "traceback": [
            "\u001b[0;31m---------------------------------------------------------------------------\u001b[0m",
            "\u001b[0;31mTypeError\u001b[0m                                 Traceback (most recent call last)",
            "\u001b[0;32m<ipython-input-12-5bcc4e4e60f3>\u001b[0m in \u001b[0;36m<cell line: 5>\u001b[0;34m()\u001b[0m\n\u001b[1;32m      3\u001b[0m \u001b[0mprecioProducto\u001b[0m\u001b[0;34m=\u001b[0m \u001b[0;36m200\u001b[0m\u001b[0;34m\u001b[0m\u001b[0;34m\u001b[0m\u001b[0m\n\u001b[1;32m      4\u001b[0m \u001b[0mprint\u001b[0m\u001b[0;34m(\u001b[0m\u001b[0;34m\"nombre\"\u001b[0m \u001b[0;34m+\u001b[0m \u001b[0mnombreProducto\u001b[0m\u001b[0;34m)\u001b[0m\u001b[0;34m\u001b[0m\u001b[0;34m\u001b[0m\u001b[0m\n\u001b[0;32m----> 5\u001b[0;31m \u001b[0mprint\u001b[0m\u001b[0;34m(\u001b[0m\u001b[0;34m\"precio\"\u001b[0m \u001b[0;34m+\u001b[0m \u001b[0mprecioProducto\u001b[0m\u001b[0;34m)\u001b[0m \u001b[0;31m#\"\"\"este codigo marca error, por que solo se puede concatenar datos tipo string\"\"\"\u001b[0m\u001b[0;34m\u001b[0m\u001b[0;34m\u001b[0m\u001b[0m\n\u001b[0m",
            "\u001b[0;31mTypeError\u001b[0m: can only concatenate str (not \"int\") to str"
          ]
        }
      ]
    },
    {
      "cell_type": "code",
      "source": [
        "nombreProducto=\"Televisor\"\n",
        "precioProducto =200\n",
        "print(\"nombre \" + nombreProducto)\n",
        "print(\"precio\" +\" \"+ str(precioProducto)) # se tiene que convertir el datos a string"
      ],
      "metadata": {
        "colab": {
          "base_uri": "https://localhost:8080/"
        },
        "id": "JIQ02oeR_pPs",
        "outputId": "abcc19f1-5f23-4992-ca15-ed5cd0355337"
      },
      "execution_count": 16,
      "outputs": [
        {
          "output_type": "stream",
          "name": "stdout",
          "text": [
            "nombre Televisor\n",
            "precio 200\n"
          ]
        }
      ]
    },
    {
      "cell_type": "code",
      "source": [
        "nombreProducto =\"radio\"\n",
        "precioProducto =1225.556\n",
        "print(\"Producto:\",nombreProducto,\"Precio: \",precioProducto) #se puede concatenar con comas, sin hacer conversion de dato"
      ],
      "metadata": {
        "colab": {
          "base_uri": "https://localhost:8080/"
        },
        "id": "IQTnbWfsTvbk",
        "outputId": "a0bff970-0a9e-407a-d767-704953cad060"
      },
      "execution_count": 17,
      "outputs": [
        {
          "output_type": "stream",
          "name": "stdout",
          "text": [
            "Producto: radio Precio:  1225.556\n"
          ]
        }
      ]
    },
    {
      "cell_type": "code",
      "source": [
        "apellido=input(\"Apellido \")\n",
        "nombre=input(\"nombre \")\n",
        "edad=int(input(\"edad \"))\n",
        "estatura=float(input(\"estatura \"))\n",
        "print(apellido)\n",
        "print(nombre)\n",
        "print(edad)\n",
        "print(estatura)\n",
        "print(type(apellido))\n",
        "print(type(nombre))\n",
        "print(type(edad))\n",
        "print(type(estatura))"
      ],
      "metadata": {
        "colab": {
          "base_uri": "https://localhost:8080/"
        },
        "id": "XB83Tkwq-623",
        "outputId": "da36b47a-20e3-4e88-c453-f14f4f75779c"
      },
      "execution_count": 6,
      "outputs": [
        {
          "output_type": "stream",
          "name": "stdout",
          "text": [
            "Apellido garcia\n",
            "nombre alex\n",
            "edad 48\n",
            "estatura 1.70\n",
            "garcia\n",
            "alex\n",
            "48\n",
            "1.7\n",
            "<class 'str'>\n",
            "<class 'str'>\n",
            "<class 'int'>\n",
            "<class 'float'>\n"
          ]
        }
      ]
    },
    {
      "cell_type": "code",
      "source": [
        "#Practica 1\n",
        "apellido=input(\"Ingrese su apellido: \")\n",
        "nombre=input(\"ingrese su nombre\")\n",
        "edad=int(input(\"ingrese su edad: \"))\n",
        "estatura=float(input(\"ingrese su estatura\"))\n",
        "print(\"Su nombre es: \",nombre,apellido,\"su estatrura es:\",estatura,\"su edad es:\",edad)"
      ],
      "metadata": {
        "colab": {
          "base_uri": "https://localhost:8080/"
        },
        "id": "3z5pKBDgVh_U",
        "outputId": "acfe50c4-e525-41d7-b9b2-585eba9edbe7"
      },
      "execution_count": 7,
      "outputs": [
        {
          "output_type": "stream",
          "name": "stdout",
          "text": [
            "Ingrese su apellido: garcia\n",
            "ingrese su nombrealex\n",
            "ingrese su edad: 48\n",
            "ingrese su estatura1.70\n",
            "Su nombre es:  alex garcia su estatrura es: 1.7 su edad es: 48\n"
          ]
        }
      ]
    },
    {
      "cell_type": "code",
      "source": [
        "anos=float(input(\"ingrese años de caida de asteroide \"))\n",
        "anosCaida=anos/2\n",
        "print(\"el asteroide caera en \",anosCaida,\"Años\")"
      ],
      "metadata": {
        "colab": {
          "base_uri": "https://localhost:8080/"
        },
        "id": "MepVxcuFDDmp",
        "outputId": "73a72885-ef31-4d9c-b709-77cfd799ee99"
      },
      "execution_count": 11,
      "outputs": [
        {
          "output_type": "stream",
          "name": "stdout",
          "text": [
            "ingrese años de caida de asteroide 28.4\n",
            "el asteroide caera en  14.2 Años\n"
          ]
        }
      ]
    }
  ]
}