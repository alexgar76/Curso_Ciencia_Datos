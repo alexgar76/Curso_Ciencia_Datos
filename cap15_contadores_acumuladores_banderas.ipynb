{
  "cells": [
    {
      "cell_type": "markdown",
      "metadata": {
        "id": "view-in-github",
        "colab_type": "text"
      },
      "source": [
        "<a href=\"https://colab.research.google.com/github/alexgar76/curso_python/blob/main/cap15_contadores_acumuladores_banderas.ipynb\" target=\"_parent\"><img src=\"https://colab.research.google.com/assets/colab-badge.svg\" alt=\"Open In Colab\"/></a>"
      ]
    },
    {
      "cell_type": "code",
      "execution_count": 3,
      "metadata": {
        "colab": {
          "base_uri": "https://localhost:8080/"
        },
        "id": "WBGYwKMVaGwR",
        "outputId": "fa97f328-6b28-4d3f-842d-b39c90cce556"
      },
      "outputs": [
        {
          "output_type": "stream",
          "name": "stdout",
          "text": [
            "Total mayores de 30: 3\n"
          ]
        }
      ],
      "source": [
        "#ejm1 contadores con listas\n",
        "edades=[34,50,28,20,44]\n",
        "contadorMayor30=0\n",
        "i=0\n",
        "while(i < len(edades)):\n",
        " if(edades[i] > 30):\n",
        "  contadorMayor30=contadorMayor30+1\n",
        " i=i+1\n",
        "print(\"Total mayores de 30: \"+str(contadorMayor30))"
      ]
    },
    {
      "cell_type": "code",
      "source": [
        "#ejm2 Contadores con listas que contienen diccionarios\n",
        "ciudad1={\"nombre\":\"envigado\",\"habitantes\":249800}\n",
        "ciudad2={\"nombre\":\"sabaneta\",\"habitantes\":87981}\n",
        "ciudad3={\"nombre\":\"rionegro\",\"habitantes\":147484}\n",
        "\n"
      ],
      "metadata": {
        "id": "IHwFYc5nMZM2"
      },
      "execution_count": null,
      "outputs": []
    }
  ],
  "metadata": {
    "colab": {
      "provenance": [],
      "authorship_tag": "ABX9TyPZQxo9cnkTRCCn8YH/0BjA",
      "include_colab_link": true
    },
    "kernelspec": {
      "display_name": "Python 3",
      "name": "python3"
    },
    "language_info": {
      "name": "python"
    }
  },
  "nbformat": 4,
  "nbformat_minor": 0
}