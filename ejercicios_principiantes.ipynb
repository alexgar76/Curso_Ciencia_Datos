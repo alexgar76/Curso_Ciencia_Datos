{
  "nbformat": 4,
  "nbformat_minor": 0,
  "metadata": {
    "colab": {
      "provenance": [],
      "authorship_tag": "ABX9TyOdKr4sKA/bFPZH8Ulo/nxn",
      "include_colab_link": true
    },
    "kernelspec": {
      "name": "python3",
      "display_name": "Python 3"
    },
    "language_info": {
      "name": "python"
    }
  },
  "cells": [
    {
      "cell_type": "markdown",
      "metadata": {
        "id": "view-in-github",
        "colab_type": "text"
      },
      "source": [
        "<a href=\"https://colab.research.google.com/github/alexgar76/curso_python/blob/main/ejercicios_principiantes.ipynb\" target=\"_parent\"><img src=\"https://colab.research.google.com/assets/colab-badge.svg\" alt=\"Open In Colab\"/></a>"
      ]
    },
    {
      "cell_type": "code",
      "execution_count": 13,
      "metadata": {
        "colab": {
          "base_uri": "https://localhost:8080/"
        },
        "id": "3JOtL-nrrYNJ",
        "outputId": "7542301f-117d-442c-a862-f68a0ee3c2b7"
      },
      "outputs": [
        {
          "output_type": "stream",
          "name": "stdout",
          "text": [
            "ingrese valor numerico:   1\n",
            "ingrese alguna frase: francia\n",
            "ingrese valor decimal: 1.5\n",
            "valor numerico: 1\n",
            "frase: francia\n",
            "valor decimal: 1.5\n"
          ]
        }
      ],
      "source": [
        "#ejercicio #1\n",
        "varA=int(input(\"ingrese valor numerico:   \"))\n",
        "VarB=str(input(\"ingrese alguna frase: \"))\n",
        "varC=float(input(\"ingrese valor decimal: \"))\n",
        "print(\"valor numerico:\", varA )\n",
        "print(\"frase:\" + ' ' + VarB)\n",
        "print(\"valor decimal:\",varC)"
      ]
    },
    {
      "cell_type": "code",
      "source": [
        "#ejercicio #2\n",
        "varCh='hola'\n",
        "print(varCh)\n",
        "varCh=str(input(\"cambia variable: \"))\n",
        "print(varCh)"
      ],
      "metadata": {
        "colab": {
          "base_uri": "https://localhost:8080/"
        },
        "id": "cRQ4B4XMyJ6C",
        "outputId": "42084551-719d-4a79-ddff-d5d1000938a4"
      },
      "execution_count": 8,
      "outputs": [
        {
          "output_type": "stream",
          "name": "stdout",
          "text": [
            "hola\n",
            "cambia variable: 4545\n",
            "4545\n"
          ]
        }
      ]
    }
  ]
}