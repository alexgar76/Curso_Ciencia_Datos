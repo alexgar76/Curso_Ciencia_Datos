{
  "nbformat": 4,
  "nbformat_minor": 0,
  "metadata": {
    "colab": {
      "provenance": [],
      "authorship_tag": "ABX9TyM8LmZVZuBxigryq0T6r5n6",
      "include_colab_link": true
    },
    "kernelspec": {
      "name": "python3",
      "display_name": "Python 3"
    },
    "language_info": {
      "name": "python"
    }
  },
  "cells": [
    {
      "cell_type": "markdown",
      "metadata": {
        "id": "view-in-github",
        "colab_type": "text"
      },
      "source": [
        "<a href=\"https://colab.research.google.com/github/alexgar76/Curso_Ciencia_Datos/blob/main/Pandas_Series.ipynb\" target=\"_parent\"><img src=\"https://colab.research.google.com/assets/colab-badge.svg\" alt=\"Open In Colab\"/></a>"
      ]
    },
    {
      "cell_type": "code",
      "execution_count": null,
      "metadata": {
        "colab": {
          "base_uri": "https://localhost:8080/"
        },
        "id": "-DrnjBo8bycb",
        "outputId": "74ec8af5-6239-4530-d86d-371da7509d74"
      },
      "outputs": [
        {
          "output_type": "stream",
          "name": "stdout",
          "text": [
            "2.2.2\n"
          ]
        }
      ],
      "source": [
        "import pandas as pd\n",
        "print(pd.__version__)"
      ]
    },
    {
      "cell_type": "markdown",
      "source": [
        "**Pandas dispone de tres estructuras de datos diferentes:**\n",
        "1.   Series: Estructura de una dimensión.\n",
        "2.   DataFrame: Estructura de dos dimensiones (tablas).\n",
        "3.  Panel: Estructura de tres dimensiones (cubos)."
      ],
      "metadata": {
        "id": "CBPDmUBPeJKT"
      }
    },
    {
      "cell_type": "code",
      "source": [
        "#Ejemplo de SERIES\n",
        "#creacion de una serie aparti de una lista\n",
        "import pandas as pd\n",
        "s=pd.Series(['Matematicas','Historia','Economia','Programacion','Ingles'])\n",
        "print(s)"
      ],
      "metadata": {
        "colab": {
          "base_uri": "https://localhost:8080/"
        },
        "id": "v1c8OvrBd_cv",
        "outputId": "ae3d4800-cbae-4ad4-afa8-076301b110b6"
      },
      "execution_count": null,
      "outputs": [
        {
          "output_type": "stream",
          "name": "stdout",
          "text": [
            "0     Matematicas\n",
            "1        Historia\n",
            "2        Economia\n",
            "3    Programacion\n",
            "4          Ingles\n",
            "dtype: object\n"
          ]
        }
      ]
    },
    {
      "cell_type": "code",
      "source": [
        "#Ejemplo de SERIES\n",
        "#creacion de una serie aparti de un diccionario\n",
        "import pandas as pd\n",
        "s=pd.Series({'Matemarica':6.0,'Economia':4.5,'Programacion':9.5})\n",
        "print(s)\n",
        "s.size"
      ],
      "metadata": {
        "colab": {
          "base_uri": "https://localhost:8080/"
        },
        "id": "tdZ_Xu9Ffn7u",
        "outputId": "5b1bfaf0-7c34-4c54-ef4f-1825ee958972"
      },
      "execution_count": null,
      "outputs": [
        {
          "output_type": "stream",
          "name": "stdout",
          "text": [
            "Matemarica      6.0\n",
            "Economia        4.5\n",
            "Programacion    9.5\n",
            "dtype: float64\n"
          ]
        },
        {
          "output_type": "execute_result",
          "data": {
            "text/plain": [
              "3"
            ]
          },
          "metadata": {},
          "execution_count": 4
        }
      ]
    },
    {
      "cell_type": "markdown",
      "source": [
        "**Atributos de una serie**\n",
        "Existen varias propiedades o métodos para ver las características de una serie.\n",
        "1.   s.size : Devuelve el número de elementos de la serie s.\n",
        "2.   s.index : Devuelve una lista con los nombres de las filas del DataFrame s.\n",
        "3.   s.dtype : Devuelve el tipo de datos de los elementos de la serie s."
      ],
      "metadata": {
        "id": "IR4H5NOpiOx1"
      }
    },
    {
      "cell_type": "code",
      "source": [
        "#Ejm de atributos\n",
        "import pandas  as pd\n",
        "s=pd.Series([1,2,2,3,3,3,4,4,4,4])\n",
        "s.size\n",
        "s.index\n",
        "s.dtype"
      ],
      "metadata": {
        "id": "uxTO2-1YivQ4",
        "colab": {
          "base_uri": "https://localhost:8080/"
        },
        "outputId": "77bf4b4c-ef6f-4f07-dd96-15fbceaa1cb0"
      },
      "execution_count": null,
      "outputs": [
        {
          "output_type": "execute_result",
          "data": {
            "text/plain": [
              "dtype('int64')"
            ]
          },
          "metadata": {},
          "execution_count": 5
        }
      ]
    },
    {
      "cell_type": "code",
      "source": [
        "#ejm por serie\n",
        "import pandas as pd\n",
        "s = pd.Series({'Matemáticas': 6.0,  'Economía': 4.5, 'Programación': 8.5, 'quimica': 8.5})\n",
        "print(s[1:4])\n",
        "print()\n",
        "print(s['quimica'])\n",
        "print()\n",
        "print(s[['Matemáticas','quimica']])\n",
        "s[['Matemáticas','quimica']]"
      ],
      "metadata": {
        "colab": {
          "base_uri": "https://localhost:8080/",
          "height": 320
        },
        "id": "RsNPzy2BvBsh",
        "outputId": "9015babb-8e95-444b-949f-197e4fa58ef4"
      },
      "execution_count": null,
      "outputs": [
        {
          "output_type": "stream",
          "name": "stdout",
          "text": [
            "Economía        4.5\n",
            "Programación    8.5\n",
            "quimica         8.5\n",
            "dtype: float64\n",
            "\n",
            "8.5\n",
            "\n",
            "Matemáticas    6.0\n",
            "quimica        8.5\n",
            "dtype: float64\n"
          ]
        },
        {
          "output_type": "execute_result",
          "data": {
            "text/plain": [
              "Matemáticas    6.0\n",
              "quimica        8.5\n",
              "dtype: float64"
            ],
            "text/html": [
              "<div>\n",
              "<style scoped>\n",
              "    .dataframe tbody tr th:only-of-type {\n",
              "        vertical-align: middle;\n",
              "    }\n",
              "\n",
              "    .dataframe tbody tr th {\n",
              "        vertical-align: top;\n",
              "    }\n",
              "\n",
              "    .dataframe thead th {\n",
              "        text-align: right;\n",
              "    }\n",
              "</style>\n",
              "<table border=\"1\" class=\"dataframe\">\n",
              "  <thead>\n",
              "    <tr style=\"text-align: right;\">\n",
              "      <th></th>\n",
              "      <th>0</th>\n",
              "    </tr>\n",
              "  </thead>\n",
              "  <tbody>\n",
              "    <tr>\n",
              "      <th>Matemáticas</th>\n",
              "      <td>6.0</td>\n",
              "    </tr>\n",
              "    <tr>\n",
              "      <th>quimica</th>\n",
              "      <td>8.5</td>\n",
              "    </tr>\n",
              "  </tbody>\n",
              "</table>\n",
              "</div><br><label><b>dtype:</b> float64</label>"
            ]
          },
          "metadata": {},
          "execution_count": 28
        }
      ]
    },
    {
      "cell_type": "code",
      "source": [
        "#ejm resumen descriptivo de series\n",
        "import pandas as pd\n",
        "s = pd.Series({'Matemáticas': 6.0,  'Economía': 4.5, 'Programación': 8.5, 'quimica': 8.5})\n",
        "#Count muestra el tamaño de la serie\n",
        "print(\"el tamaño de la series: \" , s.count())\n"
      ],
      "metadata": {
        "colab": {
          "base_uri": "https://localhost:8080/"
        },
        "id": "UsRqUhUoUoLG",
        "outputId": "10079fc7-3e84-4ae4-9506-ea0f3dc7c34e"
      },
      "execution_count": 2,
      "outputs": [
        {
          "output_type": "stream",
          "name": "stdout",
          "text": [
            "el tamaño de la series:  4\n"
          ]
        }
      ]
    }
  ]
}