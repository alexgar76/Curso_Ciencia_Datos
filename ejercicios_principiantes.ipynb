{
  "nbformat": 4,
  "nbformat_minor": 0,
  "metadata": {
    "colab": {
      "provenance": [],
      "authorship_tag": "ABX9TyOzj/56j2bBa2yn0vcpWteY",
      "include_colab_link": true
    },
    "kernelspec": {
      "name": "python3",
      "display_name": "Python 3"
    },
    "language_info": {
      "name": "python"
    }
  },
  "cells": [
    {
      "cell_type": "markdown",
      "metadata": {
        "id": "view-in-github",
        "colab_type": "text"
      },
      "source": [
        "<a href=\"https://colab.research.google.com/github/alexgar76/curso_python/blob/main/ejercicios_principiantes.ipynb\" target=\"_parent\"><img src=\"https://colab.research.google.com/assets/colab-badge.svg\" alt=\"Open In Colab\"/></a>"
      ]
    },
    {
      "cell_type": "code",
      "execution_count": null,
      "metadata": {
        "colab": {
          "base_uri": "https://localhost:8080/"
        },
        "id": "3JOtL-nrrYNJ",
        "outputId": "7542301f-117d-442c-a862-f68a0ee3c2b7"
      },
      "outputs": [
        {
          "output_type": "stream",
          "name": "stdout",
          "text": [
            "ingrese valor numerico:   1\n",
            "ingrese alguna frase: francia\n",
            "ingrese valor decimal: 1.5\n",
            "valor numerico: 1\n",
            "frase: francia\n",
            "valor decimal: 1.5\n"
          ]
        }
      ],
      "source": [
        "#ejercicio #1\n",
        "varA=int(input(\"ingrese valor numerico:   \"))\n",
        "VarB=str(input(\"ingrese alguna frase: \"))\n",
        "varC=float(input(\"ingrese valor decimal: \"))\n",
        "print(\"valor numerico:\", varA )\n",
        "print(\"frase:\" + ' ' + VarB)\n",
        "print(\"valor decimal:\",varC)"
      ]
    },
    {
      "cell_type": "code",
      "source": [
        "#ejercicio #2\n",
        "varCh='hola'\n",
        "print(varCh)\n",
        "varCh=str(input(\"cambia variable: \"))\n",
        "print(varCh)"
      ],
      "metadata": {
        "colab": {
          "base_uri": "https://localhost:8080/"
        },
        "id": "cRQ4B4XMyJ6C",
        "outputId": "57c86236-48a8-4502-8f79-5a1b98090f8b"
      },
      "execution_count": 17,
      "outputs": [
        {
          "output_type": "stream",
          "name": "stdout",
          "text": [
            "hola\n",
            "cambia variable: 11\n",
            "11\n"
          ]
        }
      ]
    },
    {
      "cell_type": "code",
      "source": [
        "#ejercicio 3\n",
        "varX=3\n",
        "varY=8.5\n",
        "print(str(varX))\n",
        "print(str(varY))\n",
        "print(type(varX))\n",
        "print(type(varY))"
      ],
      "metadata": {
        "colab": {
          "base_uri": "https://localhost:8080/"
        },
        "id": "I1V5p2zKxmFJ",
        "outputId": "c4971ed3-eda0-498f-effb-f92ef297dae1"
      },
      "execution_count": 3,
      "outputs": [
        {
          "output_type": "stream",
          "name": "stdout",
          "text": [
            "3\n",
            "8.5\n",
            "<class 'int'>\n",
            "<class 'float'>\n"
          ]
        }
      ]
    },
    {
      "cell_type": "code",
      "source": [
        "#ejercicio 4\n",
        "print(\"ingrese su peso en kg: \")\n",
        "peso=input()\n",
        "print(f\"su peso es: {peso}\")\n",
        "print(\"su peso es:\",peso)\n"
      ],
      "metadata": {
        "colab": {
          "base_uri": "https://localhost:8080/"
        },
        "id": "fx75uAxe0f64",
        "outputId": "d6c68f4e-9106-4acf-fff8-d6cc5584be5f"
      },
      "execution_count": null,
      "outputs": [
        {
          "output_type": "stream",
          "name": "stdout",
          "text": [
            "ingrese su peso en kg: \n",
            "85.5\n",
            "su peso es: 85.5\n",
            "su peso es: 85.5\n"
          ]
        }
      ]
    },
    {
      "cell_type": "code",
      "source": [
        "#ejercicio 5\n",
        "#print(\"ingrese algun valor: \")\n",
        "var=25\n",
        "print(type(var))\n",
        "if((isinstance(var,str))==True):\n",
        " print(var, \"es una cadena\")\n",
        "if((isinstance(var,int))==True):\n",
        " print(var, \"es un entero\")\n",
        "if((isinstance(var,float))==True):\n",
        "  print(var, \"es un flotante\")"
      ],
      "metadata": {
        "colab": {
          "base_uri": "https://localhost:8080/"
        },
        "id": "T4CQ-e8X44gx",
        "outputId": "eb0eba1f-8c75-4d2c-a733-271e85972954"
      },
      "execution_count": 45,
      "outputs": [
        {
          "output_type": "stream",
          "name": "stdout",
          "text": [
            "<class 'int'>\n",
            "25 es un entero\n"
          ]
        }
      ]
    },
    {
      "cell_type": "code",
      "source": [
        "#ejercicio 6\n",
        "print(\"Ingrese un numero: \")\n",
        "varD=float(input())\n",
        "if(varD >= 0 ):\n",
        "  print(\"la varaiable es positiva\")\n",
        "else:\n",
        "  print(\"la variable es negativa\")"
      ],
      "metadata": {
        "colab": {
          "base_uri": "https://localhost:8080/"
        },
        "outputId": "a7fa8833-609c-4da7-e466-5a7a03062707",
        "id": "pooCUb35VNqk"
      },
      "execution_count": 64,
      "outputs": [
        {
          "output_type": "stream",
          "name": "stdout",
          "text": [
            "Ingrese un valor: \n",
            "-.25\n",
            "la variable es negativa\n"
          ]
        }
      ]
    },
    {
      "cell_type": "code",
      "source": [
        "#ejercicio7\n",
        "print(\"ingrese su edad \")\n",
        "edad=int(input())\n",
        "if(edad>=18):\n",
        "  print(\"Es mayor de edad\")\n",
        "else:\n",
        "  print(\"Es menor edad\")\n"
      ],
      "metadata": {
        "colab": {
          "base_uri": "https://localhost:8080/"
        },
        "id": "h_KUaV3Gmrv2",
        "outputId": "ad015289-2071-43aa-a620-f36f0b2a9a87"
      },
      "execution_count": 6,
      "outputs": [
        {
          "output_type": "stream",
          "name": "stdout",
          "text": [
            "ingrese su edad \n",
            "17\n",
            "Es menor edad\n"
          ]
        }
      ]
    }
  ]
}