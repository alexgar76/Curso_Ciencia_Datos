{
  "nbformat": 4,
  "nbformat_minor": 0,
  "metadata": {
    "colab": {
      "provenance": [],
      "authorship_tag": "ABX9TyMZwfOiNJ9YIn+uTCjgqeXk",
      "include_colab_link": true
    },
    "kernelspec": {
      "name": "python3",
      "display_name": "Python 3"
    },
    "language_info": {
      "name": "python"
    }
  },
  "cells": [
    {
      "cell_type": "markdown",
      "metadata": {
        "id": "view-in-github",
        "colab_type": "text"
      },
      "source": [
        "<a href=\"https://colab.research.google.com/github/alexgar76/curso_python/blob/main/cap10_textos.ipynb\" target=\"_parent\"><img src=\"https://colab.research.google.com/assets/colab-badge.svg\" alt=\"Open In Colab\"/></a>"
      ]
    },
    {
      "cell_type": "code",
      "execution_count": null,
      "metadata": {
        "colab": {
          "base_uri": "https://localhost:8080/"
        },
        "id": "PIANWUrNssX8",
        "outputId": "cb9242a6-77cc-4001-853f-75f9727d9523"
      },
      "outputs": [
        {
          "output_type": "stream",
          "name": "stdout",
          "text": [
            "10\n",
            "8\n"
          ]
        }
      ],
      "source": [
        "mensaje=\"Hola Grupo\"\n",
        "tamano1=len(mensaje)\n",
        "tamano2=len(\"Medellin\")\n",
        "print(tamano1)\n",
        "print(tamano2)\n"
      ]
    },
    {
      "cell_type": "code",
      "source": [
        "mensaje=\"Hola,Grupo\"\n",
        "caracterPos0=mensaje[0]\n",
        "caracterPos4=mensaje[4]\n",
        "caracterPosFinal=mensaje[len(mensaje)-5]\n",
        "print(caracterPos0)\n",
        "print(caracterPos4)\n",
        "print(caracterPosFinal)\n"
      ],
      "metadata": {
        "colab": {
          "base_uri": "https://localhost:8080/"
        },
        "id": "d3qTCRekSEzK",
        "outputId": "549783c2-229b-46a8-d3b4-e9ad69906a98"
      },
      "execution_count": null,
      "outputs": [
        {
          "output_type": "stream",
          "name": "stdout",
          "text": [
            "H\n",
            ",\n",
            "G\n"
          ]
        }
      ]
    },
    {
      "cell_type": "code",
      "source": [
        "texto=\"precio:250\"\n",
        "subTexto1=texto[0:7]\n",
        "subtexto2=texto[7:11]\n",
        "print(subTexto1)\n",
        "print(subtexto2)"
      ],
      "metadata": {
        "id": "3xMa8d3mnhqS"
      },
      "execution_count": null,
      "outputs": []
    },
    {
      "cell_type": "code",
      "source": [
        "mensaje=\"Hola,Grupo\"\n",
        "posO=mensaje.find(\"o\")\n",
        "posGrupo=mensaje.find(\"Grupo\")\n",
        "posZ=mensaje.find(\"Z\")\n",
        "print(posO)\n",
        "print(posGrupo)\n",
        "print(posZ)"
      ],
      "metadata": {
        "colab": {
          "base_uri": "https://localhost:8080/"
        },
        "id": "o9ntrW0YSckm",
        "outputId": "b2139c5a-d11a-4788-8c6a-506f9c354192"
      },
      "execution_count": 6,
      "outputs": [
        {
          "output_type": "stream",
          "name": "stdout",
          "text": [
            "1\n",
            "5\n",
            "-1\n"
          ]
        }
      ]
    },
    {
      "cell_type": "code",
      "source": [
        "#programa que busca valores#\n",
        "producto=\"laser-100-hola-100\"\n",
        "posGuion1=producto.find(\"-\")\n",
        "posGuion2=producto.find(\"-\",posGuion1+1)\n",
        "subTextoCantidad=producto[posGuion2+1:len(producto)]\n",
        "print(posGuion1)\n",
        "print(posGuion2)\n",
        "print(subTextoCantidad)"
      ],
      "metadata": {
        "colab": {
          "base_uri": "https://localhost:8080/"
        },
        "id": "vrXh2WW4F8LV",
        "outputId": "e8661a30-7c53-4d2d-a906-695742d0d034"
      },
      "execution_count": null,
      "outputs": [
        {
          "output_type": "stream",
          "name": "stdout",
          "text": [
            "5\n",
            "9\n",
            "hola-100\n"
          ]
        }
      ]
    },
    {
      "cell_type": "code",
      "source": [
        "#Metodos de cadenas de caracteres#\n",
        "mensaje=\"esto es una Prueba para los Metodos 2\"\n",
        "cadena2= int(22233.44)\n",
        "metodo1=str.capitalize(mensaje) #extrae el primer caraacter en mayuscula#\n",
        "print(metodo1)\n",
        "mensajeMinus=mensaje.lower()\n",
        "print(mensajeMinus)\n",
        "mensajeMayus=mensaje.upper()\n",
        "print(mensajeMayus)\n",
        "conteo=mensaje.count(\"a\")\n",
        "print(conteo)\n",
        "nuevoMensaje=mensaje.replace(\"a\",\"x\")\n",
        "print(nuevoMensaje)"
      ],
      "metadata": {
        "colab": {
          "base_uri": "https://localhost:8080/"
        },
        "id": "M_rSV8kJpBfb",
        "outputId": "6ce8b968-101b-4289-fd94-732b05d68d0a"
      },
      "execution_count": 7,
      "outputs": [
        {
          "output_type": "stream",
          "name": "stdout",
          "text": [
            "Esto es una prueba para los metodos 2\n",
            "esto es una prueba para los metodos 2\n",
            "ESTO ES UNA PRUEBA PARA LOS METODOS 2\n",
            "4\n",
            "esto es unx Pruebx pxrx los Metodos 2\n"
          ]
        }
      ]
    },
    {
      "cell_type": "code",
      "source": [
        "palabra= input()\n",
        "i=0\n",
        "while(i< len(palabra)):\n",
        " print(palabra[i])\n",
        " i=i+1"
      ],
      "metadata": {
        "colab": {
          "base_uri": "https://localhost:8080/"
        },
        "id": "YqABt-itgmeD",
        "outputId": "b507b18c-26a1-43fc-a117-9380e5d67b37"
      },
      "execution_count": 10,
      "outputs": [
        {
          "output_type": "stream",
          "name": "stdout",
          "text": [
            "carro\n",
            "c\n",
            "a\n",
            "r\n",
            "r\n",
            "o\n"
          ]
        }
      ]
    },
    {
      "cell_type": "code",
      "source": [
        "texto=\"gatubela\"\n",
        "print(texto[0])\n",
        "print(texto[0:3])\n",
        "pos1=texto.find(\"u\")\n",
        "print(pos1)"
      ],
      "metadata": {
        "colab": {
          "base_uri": "https://localhost:8080/"
        },
        "id": "F2r1FaTk-5QD",
        "outputId": "44480bcb-5796-408a-8903-0d40331a0aac"
      },
      "execution_count": 4,
      "outputs": [
        {
          "output_type": "stream",
          "name": "stdout",
          "text": [
            "g\n",
            "gat\n",
            "3\n"
          ]
        }
      ]
    },
    {
      "cell_type": "code",
      "source": [
        "palabra=input()\n",
        "print(palabra[len(palabra)-2])"
      ],
      "metadata": {
        "colab": {
          "base_uri": "https://localhost:8080/"
        },
        "id": "EByIO-di_oYL",
        "outputId": "fe73f2ad-41f9-47f6-cc3d-6829b1998f17"
      },
      "execution_count": 7,
      "outputs": [
        {
          "output_type": "stream",
          "name": "stdout",
          "text": [
            "hola\n",
            "l\n"
          ]
        }
      ]
    },
    {
      "cell_type": "code",
      "source": [
        "#ejercicio 1\n",
        "texto=input()\n",
        "letra1=texto[0]\n",
        "letra2=texto[-1]\n",
        "print(letra1+letra2)"
      ],
      "metadata": {
        "colab": {
          "base_uri": "https://localhost:8080/"
        },
        "id": "jDeGDbY4iVX0",
        "outputId": "f8b08021-5cca-4a3f-f0c5-5f3f6f0acde6"
      },
      "execution_count": 5,
      "outputs": [
        {
          "output_type": "stream",
          "name": "stdout",
          "text": [
            "hola\n",
            "ha\n"
          ]
        }
      ]
    },
    {
      "cell_type": "code",
      "source": [
        "#ejercicio2\n",
        "texto=input()\n",
        "busca=texto.find(\"z\")\n",
        "if(busca == -1):\n",
        " print(\"No existe Z en el texto:\", texto)\n",
        "else:\n",
        " print(\"Existe Z en el texto:\", texto)"
      ],
      "metadata": {
        "colab": {
          "base_uri": "https://localhost:8080/"
        },
        "id": "IlsBVoQ_jP7w",
        "outputId": "1d514ba3-39b0-4b0e-af38-641bb2078254"
      },
      "execution_count": 13,
      "outputs": [
        {
          "output_type": "stream",
          "name": "stdout",
          "text": [
            "perrroz\n",
            "Existe Z en el texto: perrroz\n"
          ]
        }
      ]
    },
    {
      "cell_type": "code",
      "source": [
        "#ejercicio 3\n",
        "texto=input()\n",
        "i=0\n",
        "while(i < len(texto)):\n",
        "  if(texto[i] != \"a\"):\n",
        "   print(texto[i])\n",
        "  i=i+1\n"
      ],
      "metadata": {
        "colab": {
          "base_uri": "https://localhost:8080/"
        },
        "id": "eB5gXiecrtA0",
        "outputId": "e3ac524e-afee-48eb-ddc7-77e1d804ace4"
      },
      "execution_count": 1,
      "outputs": [
        {
          "output_type": "stream",
          "name": "stdout",
          "text": [
            "carro\n",
            "c\n",
            "r\n",
            "r\n",
            "o\n"
          ]
        }
      ]
    },
    {
      "cell_type": "code",
      "source": [],
      "metadata": {
        "id": "gjB933Sz-VGk"
      },
      "execution_count": null,
      "outputs": []
    }
  ]
}