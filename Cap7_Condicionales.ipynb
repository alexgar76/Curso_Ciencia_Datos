{
  "nbformat": 4,
  "nbformat_minor": 0,
  "metadata": {
    "colab": {
      "provenance": [],
      "authorship_tag": "ABX9TyOJ/8ibMRc7N8uWflL2S6Mc",
      "include_colab_link": true
    },
    "kernelspec": {
      "name": "python3",
      "display_name": "Python 3"
    },
    "language_info": {
      "name": "python"
    }
  },
  "cells": [
    {
      "cell_type": "markdown",
      "metadata": {
        "id": "view-in-github",
        "colab_type": "text"
      },
      "source": [
        "<a href=\"https://colab.research.google.com/github/alexgar76/curso_python/blob/main/Cap7_Condicionales.ipynb\" target=\"_parent\"><img src=\"https://colab.research.google.com/assets/colab-badge.svg\" alt=\"Open In Colab\"/></a>"
      ]
    },
    {
      "cell_type": "code",
      "execution_count": null,
      "metadata": {
        "colab": {
          "base_uri": "https://localhost:8080/"
        },
        "id": "AbX64aYIs-nd",
        "outputId": "c42b636c-2422-4ca8-d86d-adec0ffc9bbd"
      },
      "outputs": [
        {
          "output_type": "stream",
          "name": "stdout",
          "text": [
            "ingrese el lado 4\n",
            "el cuadrado es  16.0\n"
          ]
        }
      ],
      "source": [
        "lado=float(input(\"ingrese el lado \"))\n",
        "area= lado*lado\n",
        "print(\"el cuadrado es \",area)"
      ]
    },
    {
      "cell_type": "code",
      "source": [
        "tengoHijos=True\n",
        "print(type(tengoHijos))\n",
        "print(tengoHijos)"
      ],
      "metadata": {
        "colab": {
          "base_uri": "https://localhost:8080/"
        },
        "id": "8PORHHL8motU",
        "outputId": "a87ca31f-117c-4b4f-be8b-796209357078"
      },
      "execution_count": 1,
      "outputs": [
        {
          "output_type": "stream",
          "name": "stdout",
          "text": [
            "<class 'bool'>\n",
            "True\n"
          ]
        }
      ]
    },
    {
      "cell_type": "code",
      "source": [
        "temperatura=float(input(\"ingrese temperatura: \"))\n",
        "if (temperatura >= 21):\n",
        "   print(\"comprar Helado\")\n",
        "   print(\"comprar malteada\")\n",
        "print(\"esta frio para helado\")"
      ],
      "metadata": {
        "colab": {
          "base_uri": "https://localhost:8080/"
        },
        "id": "aUpnIe--Nunu",
        "outputId": "eb7ca631-e057-4704-818f-2f2cd02cf052"
      },
      "execution_count": 11,
      "outputs": [
        {
          "output_type": "stream",
          "name": "stdout",
          "text": [
            "ingrese temperatura: 5\n",
            "esta frio para helado\n"
          ]
        }
      ]
    },
    {
      "cell_type": "code",
      "source": [
        "temperatura=float(input(\"temperatura: \"))\n",
        "dinero=int(input(\"dinero:\"))\n",
        "if (temperatura >= 21) and (dinero>=10):\n",
        "   print(\"tengo dinero para compar helado\")\n",
        "else:\n",
        "  print(\"no tengo dinero\")\n"
      ],
      "metadata": {
        "colab": {
          "base_uri": "https://localhost:8080/"
        },
        "id": "Bceq2MTsv3Yc",
        "outputId": "3f080b5e-51b6-44c6-eade-610512de17b3"
      },
      "execution_count": 19,
      "outputs": [
        {
          "output_type": "stream",
          "name": "stdout",
          "text": [
            "temperatura: 12\n",
            "dinero:3\n",
            "no tengo dinero\n"
          ]
        }
      ]
    }
  ]
}