{
  "nbformat": 4,
  "nbformat_minor": 0,
  "metadata": {
    "colab": {
      "provenance": [],
      "mount_file_id": "1rImkvfsmsFOptTxEhhyXSsmtOYqNFLBo",
      "authorship_tag": "ABX9TyOjjy2dRBnwlAa6WQ3uey/u",
      "include_colab_link": true
    },
    "kernelspec": {
      "name": "python3",
      "display_name": "Python 3"
    },
    "language_info": {
      "name": "python"
    }
  },
  "cells": [
    {
      "cell_type": "markdown",
      "metadata": {
        "id": "view-in-github",
        "colab_type": "text"
      },
      "source": [
        "<a href=\"https://colab.research.google.com/github/alexgar76/curso_python/blob/main/cap16_Archivos.ipynb\" target=\"_parent\"><img src=\"https://colab.research.google.com/assets/colab-badge.svg\" alt=\"Open In Colab\"/></a>"
      ]
    },
    {
      "cell_type": "code",
      "execution_count": 6,
      "metadata": {
        "id": "zdn-4v8YAavg",
        "colab": {
          "base_uri": "https://localhost:8080/"
        },
        "outputId": "f5d39c0a-e2f1-43aa-bea8-fe5ce292f2c2"
      },
      "outputs": [
        {
          "output_type": "stream",
          "name": "stdout",
          "text": [
            "150,15,1200\n"
          ]
        }
      ],
      "source": [
        "#ejemplo1/content/sample_data/\n",
        "archivoAhorros=open(\"/content/drive/MyDrive/archivos_colab/ahorros.txt.txt\")\n",
        "contenidoArchivo=archivoAhorros.read()\n",
        "print(contenidoArchivo)"
      ]
    },
    {
      "cell_type": "code",
      "source": [
        "#ejm 2 abrir archivo con delimitador split\n",
        "archivoAhorros=open(\"/content/drive/MyDrive/archivos_colab/ahorros.txt.txt\")\n",
        "contenidoArchivo=archivoAhorros.read()\n",
        "ahorros=contenidoArchivo.split(\",\")\n",
        "\n",
        "print(ahorros)\n",
        "print(len(ahorros))\n",
        "print(ahorros[0])"
      ],
      "metadata": {
        "colab": {
          "base_uri": "https://localhost:8080/"
        },
        "id": "oRKWHKgkUoSW",
        "outputId": "7de04ea3-1125-460f-a0ee-5491512798d1"
      },
      "execution_count": 9,
      "outputs": [
        {
          "output_type": "stream",
          "name": "stdout",
          "text": [
            "['150', '15', '1200']\n",
            "3\n",
            "150\n"
          ]
        }
      ]
    },
    {
      "cell_type": "code",
      "source": [
        "#ejm 3 abrir archivos por lineas\n",
        "archivoClientes=open(\"/content/drive/MyDrive/archivos_colab/clientes.txt\")\n",
        "contenidoPorLineas=archivoClientes.readlines()\n",
        "for linea in contenidoPorLineas:\n",
        "  lineaLimpia=linea.strip() #elimina espacios en blanco*/\n",
        "  datosCliente=lineaLimpia.split(\",\")\n",
        "  print(\"nombre:\"+datosCliente[0])\n",
        "  print(\"edad:\"+datosCliente[1])\n",
        "  print(\"ciudad:\"+datosCliente[2])\n"
      ],
      "metadata": {
        "colab": {
          "base_uri": "https://localhost:8080/"
        },
        "id": "AwfVWj4-r5yn",
        "outputId": "279ec30c-b15c-4fc6-9e40-fdddd2e72552"
      },
      "execution_count": 9,
      "outputs": [
        {
          "output_type": "stream",
          "name": "stdout",
          "text": [
            "nombre:Carlos\n",
            "edad:Cardona\n",
            "ciudad:41\n",
            "nombre:Veronica\n",
            "edad:Calderon\n",
            "ciudad:24\n",
            "nombre:Sara\n",
            "edad:Saldarriaga\n",
            "ciudad:30\n"
          ]
        }
      ]
    },
    {
      "cell_type": "code",
      "source": [
        "#ejm 4 escribir datos en archivo\n",
        "archivoAhorros=open(\"/content/drive/MyDrive/archivos_colab/ahorros.txt\")\n",
        "contenidoArchivo=archivoAhorros.read()\n",
        "\n",
        "archivoAhorrosW=open(\"/content/drive/MyDrive/archivos_colab/ahorros.txt\",\"w\")\n",
        "nuevoAhorro=input(\"ingrese el ahorro de la semana:\")\n",
        "\n",
        "nuevoContenido=contenidoArchivo+\",\"+ nuevoAhorro\n",
        "archivoAhorrosW.write(nuevoContenido)\n",
        "archivoAhorrosW.close()\n"
      ],
      "metadata": {
        "colab": {
          "base_uri": "https://localhost:8080/"
        },
        "id": "aWXqriU02-T9",
        "outputId": "a0c9a672-d0ae-4ef0-b2cb-832d393cdf87"
      },
      "execution_count": 13,
      "outputs": [
        {
          "name": "stdout",
          "output_type": "stream",
          "text": [
            "ingrese el ahorro de la semana:hola nuevo ahorro\n"
          ]
        }
      ]
    },
    {
      "cell_type": "code",
      "source": [
        "#ejm 5 lectura de datos con dataset\n",
        "archivoCanciones=open(\"/content/drive/MyDrive/archivos_colab/songs.csv\")\n",
        "contenidoPorLineas=open(\"/content/drive/MyDrive/archivos_colab/songs.csv\").readlines()#readlines Lee todas las lineas del archivo\n",
        "\n",
        "i=1\n",
        "while(i<len(contenidoPorLineas)):#Len retorna el numero de objetos en una lista\n",
        "  lineaLimpia=contenidoPorLineas[i].strip() #strip Remueve espacion al inicio y fin del caracter\n",
        "  datosCancion=lineaLimpia.split(\",\")\n",
        "  print(datosCancion[1])\n",
        "  i=i+1\n"
      ],
      "metadata": {
        "id": "GzG2QE_zc7Pn"
      },
      "execution_count": null,
      "outputs": []
    },
    {
      "cell_type": "code",
      "source": [
        "#ejercicio 1 canciones del 2020\n",
        "archivoCanciones=open(\"/content/drive/MyDrive/archivos_colab/songs.csv\")\n",
        "contenidoPorLineas=open(\"/content/drive/MyDrive/archivos_colab/songs.csv\").readlines()\n",
        "\n",
        "i=1\n",
        "while (1<len(contenidoPorLineas)):\n",
        " lineaLimpia=contenidoPorLineas[i].strip()\n",
        " datosCancion=lineaLimpia.split(\",\")\n",
        " print(datosCancion[4])\n",
        " i=i+1\n",
        "\n",
        "\n"
      ],
      "metadata": {
        "id": "X5L4KA2uPEPN"
      },
      "execution_count": null,
      "outputs": []
    },
    {
      "cell_type": "code",
      "source": [
        "#ejercicio 1 canciones del 2020\n",
        "#archivoCanciones=open(\"/content/drive/MyDrive/archivos_colab/songs.csv\")\n",
        "contenidoPorLineas=open(\"/content/drive/MyDrive/archivos_colab/songs.csv\").readlines()#readlines Lee todas las lineas del archivo\n",
        "anio=input(\"ingrese el año de la cancion:\")\n",
        "i=1\n",
        "while(i<len(contenidoPorLineas)):#Len retorna el numero de objetos en una lista\n",
        "  lineaLimpia=contenidoPorLineas[i].strip() #strip Remueve espacion al inicio y fin del caracter\n",
        "  datosCancion=lineaLimpia.split(\",\")\n",
        "  if(anio == datosCancion[4]):\n",
        "   print(datosCancion[1] + \",  \" + datosCancion[0]+ \",  \" + datosCancion[4])\n",
        "   #print(datosCancion[0])\n",
        "  i=i+1\n",
        "\n",
        "\n",
        "\n",
        "\n"
      ],
      "metadata": {
        "colab": {
          "base_uri": "https://localhost:8080/"
        },
        "id": "qh5oBLw84eTe",
        "outputId": "494285cc-3319-44d6-a7b0-2112c3506eb8"
      },
      "execution_count": 35,
      "outputs": [
        {
          "output_type": "stream",
          "name": "stdout",
          "text": [
            "ingrese el año de la cancion:2020\n",
            "All The Things She Said,  t.A.T.u.,  2020\n",
            "Switch,  Will Smith,  2020\n",
            "Options,  NSG,  2020\n"
          ]
        }
      ]
    }
  ]
}