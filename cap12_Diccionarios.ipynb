{
  "nbformat": 4,
  "nbformat_minor": 0,
  "metadata": {
    "colab": {
      "provenance": [],
      "authorship_tag": "ABX9TyOPTtSJYfWoz5xRDbL1Q/09",
      "include_colab_link": true
    },
    "kernelspec": {
      "name": "python3",
      "display_name": "Python 3"
    },
    "language_info": {
      "name": "python"
    }
  },
  "cells": [
    {
      "cell_type": "markdown",
      "metadata": {
        "id": "view-in-github",
        "colab_type": "text"
      },
      "source": [
        "<a href=\"https://colab.research.google.com/github/alexgar76/curso_python/blob/main/cap12_Diccionarios.ipynb\" target=\"_parent\"><img src=\"https://colab.research.google.com/assets/colab-badge.svg\" alt=\"Open In Colab\"/></a>"
      ]
    },
    {
      "cell_type": "code",
      "execution_count": 1,
      "metadata": {
        "colab": {
          "base_uri": "https://localhost:8080/"
        },
        "id": "okrYQkqd3WAQ",
        "outputId": "aff6107a-1e50-490a-ac4c-b55e2a651a55"
      },
      "outputs": [
        {
          "output_type": "stream",
          "name": "stdout",
          "text": [
            "{'nombre': 'iphone 14', 'precio': 799, 'color': 'plata'}\n",
            "<class 'dict'>\n"
          ]
        }
      ],
      "source": [
        "#Ejercicio 1\n",
        "producto= {\n",
        " \"nombre\":\"iphone 14\",\n",
        " \"precio\":799,\n",
        " \"color\":\"plata\"\n",
        "}\n",
        "print(producto)\n",
        "print(type(producto))"
      ]
    },
    {
      "cell_type": "code",
      "source": [
        "#acceder a valor de diccionario\n",
        "carro = {\n",
        "    \"marca\":\"toyota\",\n",
        "    \"color\":\"negro\"\n",
        "}\n",
        "print(len(carro))\n",
        "print(carro[\"marca\"])\n",
        "print(carro[\"color\"])"
      ],
      "metadata": {
        "colab": {
          "base_uri": "https://localhost:8080/"
        },
        "id": "O_G722E-7ZwY",
        "outputId": "009c7be6-5172-4bbc-8b5d-95074bd3c8e8"
      },
      "execution_count": 2,
      "outputs": [
        {
          "output_type": "stream",
          "name": "stdout",
          "text": [
            "2\n",
            "toyota\n",
            "negro\n"
          ]
        }
      ]
    },
    {
      "cell_type": "code",
      "source": [
        "#Modificar diccionario\n",
        "carro = {\n",
        "    \"Marca\":\"Toyota\",\n",
        "    \"Color\":\"negro\"\n",
        "}\n",
        "print(carro[\"Color\"])\n",
        "carro[\"Color\"]=\"rojo\"\n",
        "print(carro[\"Color\"])"
      ],
      "metadata": {
        "colab": {
          "base_uri": "https://localhost:8080/"
        },
        "id": "9oP11zYk7ZYY",
        "outputId": "68d1ec8d-c436-425e-fd25-dde1fc3d7c4a"
      },
      "execution_count": 5,
      "outputs": [
        {
          "output_type": "stream",
          "name": "stdout",
          "text": [
            "negro\n",
            "rojo\n"
          ]
        }
      ]
    },
    {
      "cell_type": "code",
      "source": [
        "#agregar valor a diccionario\n",
        "carro = {\n",
        "    \"marca\":\"toyota\",\n",
        "    \"color\":\"negro\"\n",
        "}\n",
        "carro[\"maletero\"]=\"skybox16\"\n",
        "carro[\"guardabarro\"]=\"pocket style\"\n",
        "print(carro[\"maletero\"])\n",
        "print(carro)"
      ],
      "metadata": {
        "colab": {
          "base_uri": "https://localhost:8080/"
        },
        "id": "2ZIZJLHLax7g",
        "outputId": "b85c252d-fa48-4454-fb05-0c953f8e3a0e"
      },
      "execution_count": 1,
      "outputs": [
        {
          "output_type": "stream",
          "name": "stdout",
          "text": [
            "skybox16\n",
            "{'marca': 'toyota', 'color': 'negro', 'maletero': 'skybox16', 'guardabarro': 'pocket style'}\n"
          ]
        }
      ]
    },
    {
      "cell_type": "code",
      "source": [
        "#eliminar diccionario\n",
        "carro ={\n",
        "    \"marca\":\"toyota\",\n",
        "    \"color\":\"blanco\",\n",
        "    \"maletero\":\"skybox 16\"\n",
        "\n",
        "}\n",
        "\n",
        "print(carro)\n",
        "carro.pop(\"maletero\")\n",
        "print(carro)"
      ],
      "metadata": {
        "colab": {
          "base_uri": "https://localhost:8080/"
        },
        "id": "kkoe3x72-M21",
        "outputId": "3a96de2e-7908-450e-a494-55c4c452e5a7"
      },
      "execution_count": 2,
      "outputs": [
        {
          "output_type": "stream",
          "name": "stdout",
          "text": [
            "{'marca': 'toyota', 'color': 'blanco', 'maletero': 'skybox 16'}\n",
            "{'marca': 'toyota', 'color': 'blanco'}\n"
          ]
        }
      ]
    },
    {
      "cell_type": "code",
      "source": [
        "#ciclos en en diccionarios\n",
        "producto1={\"nombre\":\"monitor\", \"precio\":119}\n",
        "producto2={\"nombre\":\"mouese\",\"precio\":6}\n",
        "listaProductos=[]\n",
        "listaProductos.append(producto1)\n",
        "listaProductos.append(producto2)\n",
        "print(listaProductos)\n",
        "print(listaProductos[0])\n",
        "print(listaProductos[0][\"nombre\"])\n",
        "\n",
        "print(listaProductos[1])\n"
      ],
      "metadata": {
        "colab": {
          "base_uri": "https://localhost:8080/"
        },
        "id": "e8xssILy_jGo",
        "outputId": "ed5b2e67-9268-42cf-a610-55e59841f048"
      },
      "execution_count": 5,
      "outputs": [
        {
          "output_type": "stream",
          "name": "stdout",
          "text": [
            "[{'nombre': 'monitor', 'precio': 119}, {'nombre': 'mouese', 'precio': 6}]\n",
            "{'nombre': 'monitor', 'precio': 119}\n",
            "monitor\n",
            "{'nombre': 'mouese', 'precio': 6}\n"
          ]
        }
      ]
    },
    {
      "cell_type": "code",
      "source": [
        "#ciclos con listas que contienen diccionarios\n",
        "producto1={\"nombre\":\"monitor\",\"precio\":119}\n",
        "producto2={\"nombre\":\"mouse\", \"precio\":6}\n",
        "listaProductos=[producto1,producto2]\n",
        "\n",
        "i=0\n",
        "while(i<len(listaProductos)):\n",
        " print(\"nombre producto:\"+listaProductos[i][\"nombre\"])\n",
        " print(\"precio producto:\"+str(listaProductos[i][\"precio\"]))\n",
        " i=i+1\n"
      ],
      "metadata": {
        "colab": {
          "base_uri": "https://localhost:8080/"
        },
        "id": "NTBKgXXshqNf",
        "outputId": "2706c06b-5a5c-4582-eebf-8b86dcd3d2df"
      },
      "execution_count": 3,
      "outputs": [
        {
          "output_type": "stream",
          "name": "stdout",
          "text": [
            "nombre producto:monitor\n",
            "precio producto:119\n",
            "nombre producto:mouse\n",
            "precio producto:6\n"
          ]
        }
      ]
    },
    {
      "cell_type": "code",
      "source": [
        "#Ejercicio 1\n",
        "nombre=input(\"ingrese el nombre de la mascota \")\n",
        "raza=input(\"ingrese la raza \")\n",
        "edad=input(\"ingrese edad \")\n",
        "mascota={\"nombre\":nombre,\"raza\":raza,\"edad\":edad}\n",
        "print(mascota)"
      ],
      "metadata": {
        "colab": {
          "base_uri": "https://localhost:8080/"
        },
        "id": "X5Xk-wLRyOIg",
        "outputId": "5cc4b18a-a48f-4f49-c4c7-724fdd6538fa"
      },
      "execution_count": 3,
      "outputs": [
        {
          "output_type": "stream",
          "name": "stdout",
          "text": [
            "ingrese el nombre de la mascota drago\n",
            "ingrese la raza husky\n",
            "ingrese edad 5\n",
            "{'nombre': 'drago', 'raza': 'husky', 'edad': '5'}\n"
          ]
        }
      ]
    },
    {
      "cell_type": "code",
      "source": [
        "#ejercicio 2\n",
        "numEntero=input(int(\"ingrese un numero \"))\n"
      ],
      "metadata": {
        "colab": {
          "base_uri": "https://localhost:8080/",
          "height": 159
        },
        "id": "BNhSw2uyMcrI",
        "outputId": "70e582d2-d921-4744-c2f5-bb10b8bee139"
      },
      "execution_count": 4,
      "outputs": [
        {
          "output_type": "error",
          "ename": "ValueError",
          "evalue": "invalid literal for int() with base 10: 'ingrese un numero '",
          "traceback": [
            "\u001b[0;31m---------------------------------------------------------------------------\u001b[0m",
            "\u001b[0;31mValueError\u001b[0m                                Traceback (most recent call last)",
            "\u001b[0;32m<ipython-input-4-e276404fb5a4>\u001b[0m in \u001b[0;36m<cell line: 2>\u001b[0;34m()\u001b[0m\n\u001b[1;32m      1\u001b[0m \u001b[0;31m#ejercicio 2\u001b[0m\u001b[0;34m\u001b[0m\u001b[0;34m\u001b[0m\u001b[0m\n\u001b[0;32m----> 2\u001b[0;31m \u001b[0mnumEntero\u001b[0m\u001b[0;34m=\u001b[0m\u001b[0minput\u001b[0m\u001b[0;34m(\u001b[0m\u001b[0mint\u001b[0m\u001b[0;34m(\u001b[0m\u001b[0;34m\"ingrese un numero \"\u001b[0m\u001b[0;34m)\u001b[0m\u001b[0;34m)\u001b[0m\u001b[0;34m\u001b[0m\u001b[0;34m\u001b[0m\u001b[0m\n\u001b[0m",
            "\u001b[0;31mValueError\u001b[0m: invalid literal for int() with base 10: 'ingrese un numero '"
          ]
        }
      ]
    }
  ]
}