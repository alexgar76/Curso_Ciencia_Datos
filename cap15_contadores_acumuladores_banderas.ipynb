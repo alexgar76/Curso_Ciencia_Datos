{
  "cells": [
    {
      "cell_type": "markdown",
      "metadata": {
        "id": "view-in-github",
        "colab_type": "text"
      },
      "source": [
        "<a href=\"https://colab.research.google.com/github/alexgar76/curso_python/blob/main/cap15_contadores_acumuladores_banderas.ipynb\" target=\"_parent\"><img src=\"https://colab.research.google.com/assets/colab-badge.svg\" alt=\"Open In Colab\"/></a>"
      ]
    },
    {
      "cell_type": "code",
      "execution_count": null,
      "metadata": {
        "colab": {
          "base_uri": "https://localhost:8080/"
        },
        "id": "WBGYwKMVaGwR",
        "outputId": "fa97f328-6b28-4d3f-842d-b39c90cce556"
      },
      "outputs": [
        {
          "output_type": "stream",
          "name": "stdout",
          "text": [
            "Total mayores de 30: 3\n"
          ]
        }
      ],
      "source": [
        "#ejm1 contadores con listas\n",
        "edades=[34,50,28,20,44]\n",
        "contadorMayor30=0\n",
        "i=0\n",
        "while(i < len(edades)):\n",
        " if(edades[i] > 30):\n",
        "  contadorMayor30=contadorMayor30+1\n",
        " i=i+1\n",
        "print(\"Total mayores de 30: \"+str(contadorMayor30))"
      ]
    },
    {
      "cell_type": "code",
      "source": [
        "#ejm2 Contadores con listas que contienen diccionarios\n",
        "ciudad1={\"nombre\":\"envigado\",\"habitantes\":249800}\n",
        "ciudad2={\"nombre\":\"sabaneta\",\"habitantes\":87981}\n",
        "ciudad3={\"nombre\":\"rionegro\",\"habitantes\":147484}\n",
        "\n",
        "ciudades=[ciudad1,ciudad2,ciudad3]\n",
        "contador=0\n",
        "for ciudad in ciudades:\n",
        "  if(ciudad[\"habitantes\"]>90000):\n",
        "    contador =contador +1\n",
        "print(\"Mas de 9000 Hbitantes:\"+str(contador))\n"
      ],
      "metadata": {
        "id": "IHwFYc5nMZM2",
        "colab": {
          "base_uri": "https://localhost:8080/"
        },
        "outputId": "0d873f94-a754-4826-f8da-b6618fc0ba56"
      },
      "execution_count": null,
      "outputs": [
        {
          "output_type": "stream",
          "name": "stdout",
          "text": [
            "Mas de 9000 Hbitantes:2\n"
          ]
        }
      ]
    },
    {
      "cell_type": "code",
      "source": [
        "#ejm3 Acumuladores con lista\n",
        "salarios=[3000,1500,800]\n",
        "\n",
        "acumuladorSalarios=0\n",
        "i=0\n",
        "while (i<len(salarios)):\n",
        "  acumuladorSalarios=acumuladorSalarios+salarios[i]\n",
        "  i=i+1\n",
        "print(\"total suma de salarios:\"+str(acumuladorSalarios))"
      ],
      "metadata": {
        "colab": {
          "base_uri": "https://localhost:8080/"
        },
        "id": "oagrigfVN6Rm",
        "outputId": "59f528fe-e6ed-4830-a2e4-1dfd5496adc2"
      },
      "execution_count": null,
      "outputs": [
        {
          "output_type": "stream",
          "name": "stdout",
          "text": [
            "total suma de salarios:5300\n"
          ]
        }
      ]
    },
    {
      "cell_type": "code",
      "source": [
        "#ejm4 acumuladores con listas que contienen diccionarios\n",
        "ciudad1={\"nombre\":\"envigado\",\"habitantes\":249800}\n",
        "ciudad2={\"nombre\":\"sabaneta\",\"habitantes\":87981}\n",
        "ciudad3={\"nombre\":\"rionegro\",\"habitantes\":147484}\n",
        "\n",
        "ciuadades=[ciudad1,ciudad2,ciudad3]\n",
        "acumulador = 0\n",
        "for ciudad in ciudades:\n",
        "  acumulador=acumulador+ciudad[\"habitantes\"]\n",
        "\n",
        "promedio=acumulador/len(ciudades)\n",
        "print(\"promedio de habitantes:\"+str(promedio))"
      ],
      "metadata": {
        "colab": {
          "base_uri": "https://localhost:8080/"
        },
        "id": "qcCMYPn2PH-T",
        "outputId": "e6660e90-158d-4dfa-b7c8-0493c6a744a0"
      },
      "execution_count": null,
      "outputs": [
        {
          "output_type": "stream",
          "name": "stdout",
          "text": [
            "promedio de habitantes:161755.0\n"
          ]
        }
      ]
    },
    {
      "cell_type": "code",
      "source": [
        "#ejm5 Banderas\n",
        "notas=[4.0,5.0,1.2,3.7,1.7]\n",
        "banderaNotaAlta=False\n",
        "\n",
        "for nota in notas:\n",
        "  if(nota > 4.9):\n",
        "    banderaNotaAlta=True\n",
        "    break\n",
        "if (banderaNotaAlta):\n",
        "    print(\"sacaste por lo menos una nota alta\")\n",
        "else:\n",
        "    print(\"No sacaste notas altas\")"
      ],
      "metadata": {
        "colab": {
          "base_uri": "https://localhost:8080/"
        },
        "id": "zO3zW1fqSwe0",
        "outputId": "150a951a-f986-45bf-ae92-d631bb38e8b0"
      },
      "execution_count": 4,
      "outputs": [
        {
          "output_type": "stream",
          "name": "stdout",
          "text": [
            "sacaste por lo menos una nota alta\n"
          ]
        }
      ]
    },
    {
      "cell_type": "code",
      "source": [
        "#Ejercicio1\n",
        "edades=[20,10,19]\n",
        "for edad in edades:\n",
        "  if(edad < 15):\n",
        "    break\n",
        "print(edad)"
      ],
      "metadata": {
        "colab": {
          "base_uri": "https://localhost:8080/"
        },
        "id": "oJymrY7m4M_h",
        "outputId": "1557f83f-6199-474b-ff22-0fe8e9ea0d38"
      },
      "execution_count": 13,
      "outputs": [
        {
          "output_type": "stream",
          "name": "stdout",
          "text": [
            "10\n"
          ]
        }
      ]
    },
    {
      "cell_type": "code",
      "source": [
        "#Ejercicio2\n",
        "a1={\"nombre\":\"2022 HX1\",\"distancia\":2490000}\n",
        "a2={\"nombre\":\"2022 HA2\",\"distancia\":4620000}\n",
        "a3={\"nombre\":\"101955 Bennu\",\"distancia\":32490000}\n",
        "asteroides=[a1,a2,a3]\n",
        "\n",
        "for asteroide in asteroides:\n",
        "  if(asteroide[\"distancia\"] < 7500000):\n",
        "    break\n",
        "print(asteroide)"
      ],
      "metadata": {
        "colab": {
          "base_uri": "https://localhost:8080/"
        },
        "id": "I6BI1HM95LSJ",
        "outputId": "cc78fed1-9181-4fcf-f522-79b0bb30db69"
      },
      "execution_count": 18,
      "outputs": [
        {
          "output_type": "stream",
          "name": "stdout",
          "text": [
            "{'nombre': '2022 HX1', 'distancia': 2490000}\n"
          ]
        }
      ]
    }
  ],
  "metadata": {
    "colab": {
      "provenance": [],
      "authorship_tag": "ABX9TyPBQBTunu1+n0UMP/ncUBS9",
      "include_colab_link": true
    },
    "kernelspec": {
      "display_name": "Python 3",
      "name": "python3"
    },
    "language_info": {
      "name": "python"
    }
  },
  "nbformat": 4,
  "nbformat_minor": 0
}