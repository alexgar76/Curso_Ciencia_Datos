{
  "nbformat": 4,
  "nbformat_minor": 0,
  "metadata": {
    "colab": {
      "provenance": [],
      "authorship_tag": "ABX9TyO+4xqGJwypHw6HJ4wjXNHm",
      "include_colab_link": true
    },
    "kernelspec": {
      "name": "python3",
      "display_name": "Python 3"
    },
    "language_info": {
      "name": "python"
    }
  },
  "cells": [
    {
      "cell_type": "markdown",
      "metadata": {
        "id": "view-in-github",
        "colab_type": "text"
      },
      "source": [
        "<a href=\"https://colab.research.google.com/github/alexgar76/curso_python/blob/main/ejercicios_principiantes.ipynb\" target=\"_parent\"><img src=\"https://colab.research.google.com/assets/colab-badge.svg\" alt=\"Open In Colab\"/></a>"
      ]
    },
    {
      "cell_type": "code",
      "execution_count": null,
      "metadata": {
        "colab": {
          "base_uri": "https://localhost:8080/"
        },
        "id": "3JOtL-nrrYNJ",
        "outputId": "7542301f-117d-442c-a862-f68a0ee3c2b7"
      },
      "outputs": [
        {
          "output_type": "stream",
          "name": "stdout",
          "text": [
            "ingrese valor numerico:   1\n",
            "ingrese alguna frase: francia\n",
            "ingrese valor decimal: 1.5\n",
            "valor numerico: 1\n",
            "frase: francia\n",
            "valor decimal: 1.5\n"
          ]
        }
      ],
      "source": [
        "#ejercicio #1\n",
        "varA=int(input(\"ingrese valor numerico:   \"))\n",
        "VarB=str(input(\"ingrese alguna frase: \"))\n",
        "varC=float(input(\"ingrese valor decimal: \"))\n",
        "print(\"valor numerico:\", varA )\n",
        "print(\"frase:\" + ' ' + VarB)\n",
        "print(\"valor decimal:\",varC)"
      ]
    },
    {
      "cell_type": "code",
      "source": [
        "#ejercicio #2\n",
        "varCh='hola'\n",
        "print(varCh)\n",
        "varCh=str(input(\"cambia variable: \"))\n",
        "print(varCh)"
      ],
      "metadata": {
        "colab": {
          "base_uri": "https://localhost:8080/"
        },
        "id": "cRQ4B4XMyJ6C",
        "outputId": "7efb8173-496a-4dd1-9edb-de3554361838"
      },
      "execution_count": null,
      "outputs": [
        {
          "output_type": "stream",
          "name": "stdout",
          "text": [
            "hola\n",
            "cambia variable: ll\n",
            "ll\n"
          ]
        }
      ]
    },
    {
      "cell_type": "code",
      "source": [
        "#ejercicio 3\n",
        "varX=3\n",
        "varY=8.5\n",
        "print(str(varX))\n",
        "print(str(varY))\n",
        "print(type(varX))\n",
        "print(type(varY))"
      ],
      "metadata": {
        "colab": {
          "base_uri": "https://localhost:8080/"
        },
        "id": "I1V5p2zKxmFJ",
        "outputId": "dbb7d444-0ad7-4617-f12f-672846178510"
      },
      "execution_count": null,
      "outputs": [
        {
          "output_type": "stream",
          "name": "stdout",
          "text": [
            "3\n",
            "8.5\n",
            "<class 'int'>\n",
            "<class 'float'>\n"
          ]
        }
      ]
    },
    {
      "cell_type": "code",
      "source": [
        "#ejercicio 4\n",
        "print(\"ingrese su peso en kg: \")\n",
        "peso=input()\n",
        "print(f\"su peso es: {peso}\")\n",
        "print(\"su peso es:\",peso)\n"
      ],
      "metadata": {
        "colab": {
          "base_uri": "https://localhost:8080/"
        },
        "id": "fx75uAxe0f64",
        "outputId": "c6185225-805d-489f-cd6f-d444f885eb87"
      },
      "execution_count": null,
      "outputs": [
        {
          "output_type": "stream",
          "name": "stdout",
          "text": [
            "ingrese su peso en kg: \n",
            "55\n",
            "su peso es: 55\n",
            "su peso es: 55\n"
          ]
        }
      ]
    },
    {
      "cell_type": "code",
      "source": [
        "#ejercicio 5\n",
        "print(\"ingrese algun valor: \")\n",
        "var=input()\n",
        "print(type(var))\n",
        "if(var==type(str)):\n",
        " print(var)\n",
        "else:\n",
        " print(\"no es una cadena\")"
      ],
      "metadata": {
        "colab": {
          "base_uri": "https://localhost:8080/"
        },
        "id": "T4CQ-e8X44gx",
        "outputId": "684a174c-baf3-47d2-cbc8-ea1d68fa8b70"
      },
      "execution_count": null,
      "outputs": [
        {
          "output_type": "stream",
          "name": "stdout",
          "text": [
            "ingrese algun valor: \n",
            "555\n",
            "<class 'str'>\n",
            "no es una cadena\n"
          ]
        }
      ]
    }
  ]
}