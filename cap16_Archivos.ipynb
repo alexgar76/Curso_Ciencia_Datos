{
  "nbformat": 4,
  "nbformat_minor": 0,
  "metadata": {
    "colab": {
      "provenance": [],
      "mount_file_id": "1rImkvfsmsFOptTxEhhyXSsmtOYqNFLBo",
      "authorship_tag": "ABX9TyP1ouJakVqrKQxgciLY/m2l",
      "include_colab_link": true
    },
    "kernelspec": {
      "name": "python3",
      "display_name": "Python 3"
    },
    "language_info": {
      "name": "python"
    }
  },
  "cells": [
    {
      "cell_type": "markdown",
      "metadata": {
        "id": "view-in-github",
        "colab_type": "text"
      },
      "source": [
        "<a href=\"https://colab.research.google.com/github/alexgar76/curso_python/blob/main/cap16_Archivos.ipynb\" target=\"_parent\"><img src=\"https://colab.research.google.com/assets/colab-badge.svg\" alt=\"Open In Colab\"/></a>"
      ]
    },
    {
      "cell_type": "code",
      "execution_count": 6,
      "metadata": {
        "id": "zdn-4v8YAavg",
        "colab": {
          "base_uri": "https://localhost:8080/"
        },
        "outputId": "f5d39c0a-e2f1-43aa-bea8-fe5ce292f2c2"
      },
      "outputs": [
        {
          "output_type": "stream",
          "name": "stdout",
          "text": [
            "150,15,1200\n"
          ]
        }
      ],
      "source": [
        "#ejemplo1/content/sample_data/\n",
        "archivoAhorros=open(\"/content/drive/MyDrive/archivos_colab/ahorros.txt.txt\")\n",
        "contenidoArchivo=archivoAhorros.read()\n",
        "print(contenidoArchivo)"
      ]
    },
    {
      "cell_type": "code",
      "source": [
        "#ejm 2 abrir archivo con delimitador split\n",
        "archivoAhorros=open(\"/content/drive/MyDrive/archivos_colab/ahorros.txt.txt\")\n",
        "contenidoArchivo=archivoAhorros.read()\n",
        "ahorros=contenidoArchivo.split(\",\")\n",
        "\n",
        "print(ahorros)\n",
        "print(len(ahorros))\n",
        "print(ahorros[0])"
      ],
      "metadata": {
        "colab": {
          "base_uri": "https://localhost:8080/"
        },
        "id": "oRKWHKgkUoSW",
        "outputId": "7de04ea3-1125-460f-a0ee-5491512798d1"
      },
      "execution_count": 9,
      "outputs": [
        {
          "output_type": "stream",
          "name": "stdout",
          "text": [
            "['150', '15', '1200']\n",
            "3\n",
            "150\n"
          ]
        }
      ]
    },
    {
      "cell_type": "code",
      "source": [
        "#ejm 3 abrir archivos por lineas\n",
        "archivoClientes=open(\"/content/drive/MyDrive/archivos_colab/clientes.txt\")\n",
        "contenidoPorLineas=archivoClientes.readlines()\n",
        "for linea in contenidoPorLineas:\n",
        "  lineaLimpia=linea.strip() #elimina espacios en blanco*/\n",
        "  datosCliente=lineaLimpia.split(\",\")\n",
        "  print(\"nombre:\"+datosCliente[0])\n",
        "  print(\"edad:\"+datosCliente[1])\n",
        "  print(\"ciudad:\"+datosCliente[2])\n"
      ],
      "metadata": {
        "colab": {
          "base_uri": "https://localhost:8080/"
        },
        "id": "AwfVWj4-r5yn",
        "outputId": "3cb52246-edd5-41d8-a2da-6cb830718b4a"
      },
      "execution_count": 6,
      "outputs": [
        {
          "output_type": "stream",
          "name": "stdout",
          "text": [
            "nombre:Carlos\n",
            "edad:Cardona\n",
            "ciudad:41\n",
            "nombre:Veronica\n",
            "edad:Calderon\n",
            "ciudad:24\n",
            "nombre:Sara\n",
            "edad:Saldarriaga\n",
            "ciudad:30\n"
          ]
        }
      ]
    },
    {
      "cell_type": "code",
      "source": [
        "#ejm 4 escribir datos en archivo\n",
        "archivoAhorros=open(\"/content/drive/MyDrive/archivos_colab/ahorros.txt\")\n",
        "contenidoArchivo=archivoAhorros.read()\n",
        "\n",
        "archivoAhorrosW=open(\"/content/drive/MyDrive/archivos_colab/ahorros.txt\",\"w\")\n",
        "nuevoAhorro=input(\"ingrese el ahorro de la semana:\")\n",
        "\n",
        "nuevoContenido=contenidoArchivo+\",\"+ nuevoAhorro\n",
        "archivoAhorrosW.write(nuevoContenido)\n",
        "archivoAhorrosW.close()\n"
      ],
      "metadata": {
        "colab": {
          "base_uri": "https://localhost:8080/"
        },
        "id": "aWXqriU02-T9",
        "outputId": "a0c9a672-d0ae-4ef0-b2cb-832d393cdf87"
      },
      "execution_count": 13,
      "outputs": [
        {
          "name": "stdout",
          "output_type": "stream",
          "text": [
            "ingrese el ahorro de la semana:hola nuevo ahorro\n"
          ]
        }
      ]
    }
  ]
}