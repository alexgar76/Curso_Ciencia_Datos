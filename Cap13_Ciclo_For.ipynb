{
  "nbformat": 4,
  "nbformat_minor": 0,
  "metadata": {
    "colab": {
      "provenance": [],
      "authorship_tag": "ABX9TyP2mHJ9MO7egIPjmZCXPW6V",
      "include_colab_link": true
    },
    "kernelspec": {
      "name": "python3",
      "display_name": "Python 3"
    },
    "language_info": {
      "name": "python"
    }
  },
  "cells": [
    {
      "cell_type": "markdown",
      "metadata": {
        "id": "view-in-github",
        "colab_type": "text"
      },
      "source": [
        "<a href=\"https://colab.research.google.com/github/alexgar76/curso_python/blob/main/Cap13_Ciclo_For.ipynb\" target=\"_parent\"><img src=\"https://colab.research.google.com/assets/colab-badge.svg\" alt=\"Open In Colab\"/></a>"
      ]
    },
    {
      "cell_type": "code",
      "execution_count": null,
      "metadata": {
        "id": "d67ErQm-XTqc",
        "colab": {
          "base_uri": "https://localhost:8080/"
        },
        "outputId": "446f1573-1295-4b81-9c10-d79e3206362a"
      },
      "outputs": [
        {
          "output_type": "stream",
          "name": "stdout",
          "text": [
            "25\n",
            "7\n",
            "39\n"
          ]
        }
      ],
      "source": [
        "#ejemplo 1\n",
        "edades=[25,7,39]\n",
        "for edad in edades:\n",
        "  print(edad)"
      ]
    },
    {
      "cell_type": "code",
      "source": [
        "#Ejemplo 2 for con Texto\n",
        "mensaje='hola Ana'\n",
        "for caracter in mensaje:\n",
        "  print(caracter)"
      ],
      "metadata": {
        "colab": {
          "base_uri": "https://localhost:8080/"
        },
        "id": "JiX1Dys-1qSx",
        "outputId": "c124a12b-0b80-4f30-ca3c-65ed619bc1bf"
      },
      "execution_count": null,
      "outputs": [
        {
          "output_type": "stream",
          "name": "stdout",
          "text": [
            "h\n",
            "o\n",
            "l\n",
            "a\n",
            " \n",
            "A\n",
            "n\n",
            "a\n"
          ]
        }
      ]
    },
    {
      "cell_type": "code",
      "source": [
        "#for con texto con If\n",
        "mensaje =\"hola Ana\"\n",
        "for caracter in mensaje:\n",
        "  if caracter == 'A':\n",
        "   print(\"se encontro letra\")\n",
        "  else:\n",
        "   print(caracter)"
      ],
      "metadata": {
        "colab": {
          "base_uri": "https://localhost:8080/"
        },
        "id": "_Wj6-DSVjErQ",
        "outputId": "dc9616fa-c4e4-47c9-fa43-096e15f8f15e"
      },
      "execution_count": null,
      "outputs": [
        {
          "output_type": "stream",
          "name": "stdout",
          "text": [
            "h\n",
            "o\n",
            "l\n",
            "a\n",
            " \n",
            "se encontro letra\n",
            "n\n",
            "a\n"
          ]
        }
      ]
    },
    {
      "cell_type": "code",
      "source": [
        "#ejm 3 For con diccionarios\n",
        "ciclista={\"nombre\":\"Egan\",\"apellido\":\"Bernal\",\"tipo\":\"Escalador\"}\n",
        "\n",
        "for clave in ciclista:\n",
        "  print(clave+\":\"+ciclista[clave])"
      ],
      "metadata": {
        "colab": {
          "base_uri": "https://localhost:8080/"
        },
        "id": "S8mvG9P22fI0",
        "outputId": "76909826-9787-4b3e-e0a0-8703aecdb1fc"
      },
      "execution_count": null,
      "outputs": [
        {
          "output_type": "stream",
          "name": "stdout",
          "text": [
            "nombre:Egan\n",
            "apellido:Bernal\n",
            "tipo:Escalador\n"
          ]
        }
      ]
    },
    {
      "cell_type": "code",
      "source": [
        "#ejm 3.1. For que contienen listas diccionarios\n",
        "discoteca1={\"nombre\":\"Perro Negro\",\"ubicacion\":\"Local\"}\n",
        "discoteca2={\"nombre\":\"Teatro victoria\",\"ubicacion\":\"Foraneo\"}\n",
        "discotecas=[discoteca1,discoteca2]\n",
        "\n",
        "for discoteca in discotecas:\n",
        "  print(discoteca[\"nombre\"]+ \"-\"+discoteca[\"ubicacion\"])"
      ],
      "metadata": {
        "colab": {
          "base_uri": "https://localhost:8080/"
        },
        "id": "-3p8YgMy7VSJ",
        "outputId": "07ad87f0-d949-4177-db93-a7b147f22549"
      },
      "execution_count": null,
      "outputs": [
        {
          "output_type": "stream",
          "name": "stdout",
          "text": [
            "Perro Negro-Local\n",
            "Teatro victoria-Foraneo\n"
          ]
        }
      ]
    },
    {
      "cell_type": "code",
      "source": [
        "#ejm 4 funcion Range\n",
        "numeros=[1,2,3,4,5]\n",
        "\n",
        "for numero in numeros:\n",
        "  print(numero)"
      ],
      "metadata": {
        "colab": {
          "base_uri": "https://localhost:8080/"
        },
        "id": "FytCqy6K-AXf",
        "outputId": "b5c856ba-0297-4508-c0bb-5c5eaa344119"
      },
      "execution_count": null,
      "outputs": [
        {
          "output_type": "stream",
          "name": "stdout",
          "text": [
            "1\n",
            "2\n",
            "3\n",
            "4\n",
            "5\n"
          ]
        }
      ]
    },
    {
      "cell_type": "code",
      "source": [
        "#ejm 4.1 funcion Range\n",
        "for numero in range(6):\n",
        "  print(numero)"
      ],
      "metadata": {
        "colab": {
          "base_uri": "https://localhost:8080/"
        },
        "id": "1IRxvcx4tYCX",
        "outputId": "6211e3b6-592f-4f82-ce6e-65c72088b9f3"
      },
      "execution_count": null,
      "outputs": [
        {
          "output_type": "stream",
          "name": "stdout",
          "text": [
            "0\n",
            "1\n",
            "2\n",
            "3\n",
            "4\n",
            "5\n"
          ]
        }
      ]
    },
    {
      "cell_type": "code",
      "source": [
        "#ejm 4.2 Funcion Range con multiples argumentos\n",
        "for numero in range(3,7,2):\n",
        "  print(numero)"
      ],
      "metadata": {
        "colab": {
          "base_uri": "https://localhost:8080/"
        },
        "id": "2V9Qe8LUuHpW",
        "outputId": "9ac83540-6e7b-4ad7-a69d-e6de8731ecc5"
      },
      "execution_count": null,
      "outputs": [
        {
          "output_type": "stream",
          "name": "stdout",
          "text": [
            "3\n",
            "5\n"
          ]
        }
      ]
    },
    {
      "cell_type": "code",
      "source": [
        "#Ejercicio 1\n",
        "numero =int(input())\n",
        "for i in range(numero):\n",
        "  print(\"rocas\")"
      ],
      "metadata": {
        "colab": {
          "base_uri": "https://localhost:8080/"
        },
        "id": "vHM5u2jzypSP",
        "outputId": "c04537fe-0f39-46d6-ff6e-4fb479bbb30a"
      },
      "execution_count": null,
      "outputs": [
        {
          "output_type": "stream",
          "name": "stdout",
          "text": [
            "4\n",
            "rocas\n",
            "rocas\n",
            "rocas\n",
            "rocas\n"
          ]
        }
      ]
    },
    {
      "cell_type": "code",
      "source": [
        "#ejercicio 2\n",
        "mercado=[\"pan\",\"leche\",\"huevo\"]\n",
        "for articulos in mercado:\n",
        "  print(articulos)"
      ],
      "metadata": {
        "id": "8BcYFGoj0kgG",
        "colab": {
          "base_uri": "https://localhost:8080/"
        },
        "outputId": "1c2b2f47-dc51-4bef-88da-9aaeda5a67d5"
      },
      "execution_count": 12,
      "outputs": [
        {
          "output_type": "stream",
          "name": "stdout",
          "text": [
            "pan\n",
            "leche\n",
            "huevo\n"
          ]
        }
      ]
    },
    {
      "cell_type": "code",
      "source": [
        "#ejercicio 3 for del 1 al 80\n",
        "for numero in range(1,81):\n",
        "  print(numero)"
      ],
      "metadata": {
        "id": "veAJ0ICX1ToU"
      },
      "execution_count": null,
      "outputs": []
    },
    {
      "cell_type": "code",
      "source": [
        "#ejercicio 4 for del 1000 al 0\n",
        "for numero in range(1000,0,-1):\n",
        "  print(numero)"
      ],
      "metadata": {
        "id": "7gJ2atnJ23zA"
      },
      "execution_count": null,
      "outputs": []
    },
    {
      "cell_type": "code",
      "source": [
        "#ejercicio 4 for del 2 al 66 de 2\n",
        "for numero in range(2,68,2):\n",
        "  print(numero)"
      ],
      "metadata": {
        "id": "7VqegEHT3sYR"
      },
      "execution_count": null,
      "outputs": []
    },
    {
      "cell_type": "code",
      "source": [
        "#ejercicio final\n",
        "nombre1=input(\"ingrese nombre 1 \")\n",
        "nombre2=input(\"ingrese nombre 2 \")\n",
        "nombre3=input(\"ingrese nombre 4 \")\n",
        "nombre4=input(\"ingrese nombre 4 \")\n",
        "nombres=[]\n",
        "nombres.append(nombre1)\n",
        "nombres.append(nombre2)\n",
        "nombres.append(nombre3)\n",
        "nombres.append(nombre4)\n",
        "for nombre in nombres:\n",
        "  if nombre[0] == 'l':\n",
        "    print(nombre+\"  \"+\"Nombre Descartado\")\n",
        "  else:\n",
        "   print(nombre+\"  \"+\"Nombre Posible\"  )\n"
      ],
      "metadata": {
        "colab": {
          "base_uri": "https://localhost:8080/"
        },
        "id": "78pU6r9B7g5b",
        "outputId": "14784dbf-2bdb-4903-9563-64203028345c"
      },
      "execution_count": 17,
      "outputs": [
        {
          "output_type": "stream",
          "name": "stdout",
          "text": [
            "ingrese nombre 1 marco\n",
            "ingrese nombre 2 luis\n",
            "ingrese nombre 4 carlos\n",
            "ingrese nombre 4 lana\n",
            "marco  Nombre Posible\n",
            "luis  Nombre Descartado\n",
            "carlos  Nombre Posible\n",
            "lana  Nombre Descartado\n"
          ]
        }
      ]
    }
  ]
}