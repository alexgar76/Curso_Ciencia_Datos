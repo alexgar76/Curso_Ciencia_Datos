{
  "nbformat": 4,
  "nbformat_minor": 0,
  "metadata": {
    "colab": {
      "provenance": [],
      "authorship_tag": "ABX9TyMrxLOBwJD4FtZOh2/p7tK+",
      "include_colab_link": true
    },
    "kernelspec": {
      "name": "python3",
      "display_name": "Python 3"
    },
    "language_info": {
      "name": "python"
    }
  },
  "cells": [
    {
      "cell_type": "markdown",
      "metadata": {
        "id": "view-in-github",
        "colab_type": "text"
      },
      "source": [
        "<a href=\"https://colab.research.google.com/github/alexgar76/curso_python/blob/main/Cap_4_Hola_Mundo.ipynb\" target=\"_parent\"><img src=\"https://colab.research.google.com/assets/colab-badge.svg\" alt=\"Open In Colab\"/></a>"
      ]
    },
    {
      "cell_type": "code",
      "execution_count": null,
      "metadata": {
        "colab": {
          "base_uri": "https://localhost:8080/"
        },
        "id": "f7w3RjaHBew0",
        "outputId": "fb1f2db9-19c9-48c8-cf6c-38fdabec0844"
      },
      "outputs": [
        {
          "output_type": "stream",
          "name": "stdout",
          "text": [
            "hello wordl\n",
            "primer caracter:h\n"
          ]
        }
      ],
      "source": [
        "primera = \"hello \"\n",
        "segunda = \"wordl\"\n",
        "saludo =primera + segunda\n",
        "print(saludo)\n",
        "print('primer caracter:' + saludo[0])"
      ]
    },
    {
      "cell_type": "code",
      "source": [
        "#practica dos\n",
        "precioProducto=150\n",
        "print(type(precioProducto))\n",
        "precioProducto=15.2\n",
        "print(type(precioProducto))\n",
        "print(\"cambio\")"
      ],
      "metadata": {
        "colab": {
          "base_uri": "https://localhost:8080/"
        },
        "id": "0P5yaT4HsnsV",
        "outputId": "7bce6b1c-68f1-4177-b54c-3e69a8e8c5e3"
      },
      "execution_count": null,
      "outputs": [
        {
          "output_type": "stream",
          "name": "stdout",
          "text": [
            "<class 'int'>\n",
            "<class 'float'>\n",
            "cambio\n"
          ]
        }
      ]
    },
    {
      "cell_type": "markdown",
      "source": [],
      "metadata": {
        "id": "hqkzrWe4sPaU"
      }
    }
  ]
}