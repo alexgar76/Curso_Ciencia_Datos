{
  "nbformat": 4,
  "nbformat_minor": 0,
  "metadata": {
    "colab": {
      "provenance": [],
      "mount_file_id": "1rImkvfsmsFOptTxEhhyXSsmtOYqNFLBo",
      "authorship_tag": "ABX9TyPGvLD9T4YU1M714Gc1sk7q",
      "include_colab_link": true
    },
    "kernelspec": {
      "name": "python3",
      "display_name": "Python 3"
    },
    "language_info": {
      "name": "python"
    }
  },
  "cells": [
    {
      "cell_type": "markdown",
      "metadata": {
        "id": "view-in-github",
        "colab_type": "text"
      },
      "source": [
        "<a href=\"https://colab.research.google.com/github/alexgar76/curso_python/blob/main/cap16_Archivos.ipynb\" target=\"_parent\"><img src=\"https://colab.research.google.com/assets/colab-badge.svg\" alt=\"Open In Colab\"/></a>"
      ]
    },
    {
      "cell_type": "code",
      "execution_count": null,
      "metadata": {
        "id": "zdn-4v8YAavg",
        "colab": {
          "base_uri": "https://localhost:8080/"
        },
        "outputId": "f5d39c0a-e2f1-43aa-bea8-fe5ce292f2c2"
      },
      "outputs": [
        {
          "output_type": "stream",
          "name": "stdout",
          "text": [
            "150,15,1200\n"
          ]
        }
      ],
      "source": [
        "#ejemplo1/content/sample_data/\n",
        "archivoAhorros=open(\"/content/drive/MyDrive/archivos_colab/ahorros.txt.txt\")\n",
        "contenidoArchivo=archivoAhorros.read()\n",
        "print(contenidoArchivo)"
      ]
    },
    {
      "cell_type": "code",
      "source": [
        "#ejm 2 abrir archivo con delimitador split\n",
        "archivoAhorros=open(\"/content/drive/MyDrive/archivos_colab/ahorros.txt.txt\")\n",
        "contenidoArchivo=archivoAhorros.read()\n",
        "ahorros=contenidoArchivo.split(\",\")\n",
        "\n",
        "print(ahorros)\n",
        "print(len(ahorros))\n",
        "print(ahorros[0])"
      ],
      "metadata": {
        "colab": {
          "base_uri": "https://localhost:8080/"
        },
        "id": "oRKWHKgkUoSW",
        "outputId": "7de04ea3-1125-460f-a0ee-5491512798d1"
      },
      "execution_count": null,
      "outputs": [
        {
          "output_type": "stream",
          "name": "stdout",
          "text": [
            "['150', '15', '1200']\n",
            "3\n",
            "150\n"
          ]
        }
      ]
    },
    {
      "cell_type": "code",
      "source": [
        "#ejm 3 abrir archivos por lineas\n",
        "archivoClientes=open(\"/content/drive/MyDrive/archivos_colab/clientes.txt\")\n",
        "contenidoPorLineas=archivoClientes.readlines()\n",
        "for linea in contenidoPorLineas:\n",
        "  lineaLimpia=linea.strip() #elimina espacios en blanco*/\n",
        "  datosCliente=lineaLimpia.split(\",\")\n",
        "  print(\"nombre:\"+datosCliente[0])\n",
        "  print(\"edad:\"+datosCliente[1])\n",
        "  print(\"ciudad:\"+datosCliente[2])\n"
      ],
      "metadata": {
        "colab": {
          "base_uri": "https://localhost:8080/"
        },
        "id": "AwfVWj4-r5yn",
        "outputId": "279ec30c-b15c-4fc6-9e40-fdddd2e72552"
      },
      "execution_count": null,
      "outputs": [
        {
          "output_type": "stream",
          "name": "stdout",
          "text": [
            "nombre:Carlos\n",
            "edad:Cardona\n",
            "ciudad:41\n",
            "nombre:Veronica\n",
            "edad:Calderon\n",
            "ciudad:24\n",
            "nombre:Sara\n",
            "edad:Saldarriaga\n",
            "ciudad:30\n"
          ]
        }
      ]
    },
    {
      "cell_type": "code",
      "source": [
        "#ejm 4 escribir datos en archivo\n",
        "archivoAhorros=open(\"/content/drive/MyDrive/archivos_colab/ahorros.txt\")\n",
        "contenidoArchivo=archivoAhorros.read()\n",
        "\n",
        "archivoAhorrosW=open(\"/content/drive/MyDrive/archivos_colab/ahorros.txt\",\"w\")\n",
        "nuevoAhorro=input(\"ingrese el ahorro de la semana:\")\n",
        "\n",
        "nuevoContenido=contenidoArchivo+\",\"+ nuevoAhorro\n",
        "archivoAhorrosW.write(nuevoContenido)\n",
        "archivoAhorrosW.close()\n"
      ],
      "metadata": {
        "colab": {
          "base_uri": "https://localhost:8080/"
        },
        "id": "aWXqriU02-T9",
        "outputId": "a0c9a672-d0ae-4ef0-b2cb-832d393cdf87"
      },
      "execution_count": null,
      "outputs": [
        {
          "name": "stdout",
          "output_type": "stream",
          "text": [
            "ingrese el ahorro de la semana:hola nuevo ahorro\n"
          ]
        }
      ]
    },
    {
      "cell_type": "code",
      "source": [
        "#ejm 5 lectura de datos con dataset\n",
        "archivoCanciones=open(\"/content/drive/MyDrive/archivos_colab/songs.csv\")\n",
        "contenidoPorLineas=open(\"/content/drive/MyDrive/archivos_colab/songs.csv\").readlines()#readlines Lee todas las lineas del archivo\n",
        "\n",
        "i=1\n",
        "while(i<len(contenidoPorLineas)):#Len retorna el numero de objetos en una lista\n",
        "  lineaLimpia=contenidoPorLineas[i].strip() #strip Remueve espacion al inicio y fin del caracter\n",
        "  datosCancion=lineaLimpia.split(\",\")\n",
        "  print(datosCancion[1])\n",
        "  i=i+1\n"
      ],
      "metadata": {
        "id": "GzG2QE_zc7Pn"
      },
      "execution_count": null,
      "outputs": []
    },
    {
      "cell_type": "code",
      "source": [
        "#ejercicio 1 canciones del 2020\n",
        "archivoCanciones=open(\"/content/drive/MyDrive/archivos_colab/songs.csv\")\n",
        "contenidoPorLineas=open(\"/content/drive/MyDrive/archivos_colab/songs.csv\").readlines()\n",
        "\n",
        "i=1\n",
        "while (1<len(contenidoPorLineas)):\n",
        " lineaLimpia=contenidoPorLineas[i].strip()\n",
        " datosCancion=lineaLimpia.split(\",\")\n",
        " print(datosCancion[4])\n",
        " i=i+1\n",
        "\n",
        "\n"
      ],
      "metadata": {
        "id": "X5L4KA2uPEPN"
      },
      "execution_count": null,
      "outputs": []
    },
    {
      "cell_type": "code",
      "source": [
        "#ejercicio 1 canciones del 2020\n",
        "#archivoCanciones=open(\"/content/drive/MyDrive/archivos_colab/songs.csv\")\n",
        "contenidoPorLineas=open(\"/content/drive/MyDrive/archivos_colab/songs.csv\").readlines()#readlines Lee todas las lineas del archivo\n",
        "anio=input(\"ingrese el año de la cancion:\")\n",
        "i=1\n",
        "while(i<len(contenidoPorLineas)):#Len retorna el numero de objetos en una lista\n",
        "  lineaLimpia=contenidoPorLineas[i].strip() #strip Remueve espacion al inicio y fin del caracter\n",
        "  datosCancion=lineaLimpia.split(\",\")\n",
        "  if(anio == datosCancion[4]):\n",
        "   print(datosCancion[1] + \",  \" + datosCancion[0]+ \",  \" + datosCancion[4])\n",
        "   #print(datosCancion[0])\n",
        "  i=i+1\n",
        "\n",
        "\n",
        "\n",
        "\n"
      ],
      "metadata": {
        "id": "qh5oBLw84eTe"
      },
      "execution_count": null,
      "outputs": []
    },
    {
      "cell_type": "code",
      "source": [
        "x"
      ],
      "metadata": {
        "id": "72CGNnNhSAkN"
      },
      "execution_count": null,
      "outputs": []
    },
    {
      "cell_type": "code",
      "source": [
        "#ejeercicio 2 promedio de popularidad  por año de canciones\n",
        "contenidoPorLineas=open(\"/content/drive/MyDrive/archivos_colab/songs.csv\").readlines()#readlines Lee todas las lineas del archivo\n",
        "anio=input(\"ingrese el año de la cancion:\")\n",
        "\n",
        "i=1\n",
        "while(i<len(contenidoPorLineas)):\n",
        "  lineaLimpia=contenidoPorLineas[i].strip()\n",
        "  datosCancion=lineaLimpia.split(\",\")\n",
        "  if(anio == datosCancion[4]):\n",
        "    PromedioCanciones=(datosCancion[5])\n",
        "    print( datosCancion[5])\n",
        "  i=i+1\n"
      ],
      "metadata": {
        "colab": {
          "base_uri": "https://localhost:8080/"
        },
        "outputId": "7af02c96-e42c-4c40-8589-8a8b29481b21",
        "id": "UJJgkeAASjot"
      },
      "execution_count": 4,
      "outputs": [
        {
          "output_type": "stream",
          "name": "stdout",
          "text": [
            "ingrese el año de la cancion:2019\n",
            "30\n",
            "40\n",
            "0\n",
            "43\n",
            "47\n",
            "35\n",
            "30\n",
            "53\n",
            "47\n",
            "74\n",
            "79\n",
            "83\n",
            "78\n",
            "83\n",
            "79\n",
            "84\n",
            "81\n",
            "84\n",
            "60\n",
            "75\n",
            "0\n",
            "79\n",
            "1\n",
            "68\n",
            "75\n",
            "63\n",
            "0\n",
            "80\n",
            "71\n",
            "78\n",
            "69\n",
            "77\n",
            "76\n",
            "79\n",
            "57\n",
            "72\n",
            "72\n",
            "76\n",
            "71\n",
            "78\n",
            "53\n",
            "69\n",
            "76\n",
            "65\n",
            "69\n",
            "78\n",
            "79\n",
            "61\n",
            "73\n",
            "66\n",
            "73\n",
            "64\n",
            "78\n",
            "77\n",
            "81\n",
            "4\n",
            "80\n",
            "70\n",
            "72\n",
            "69\n",
            "75\n",
            "35\n",
            "64\n",
            "71\n",
            "1\n",
            "71\n",
            "57\n",
            "64\n",
            "69\n",
            "75\n",
            "69\n",
            "74\n",
            "71\n",
            "64\n",
            "2\n",
            "69\n",
            "73\n",
            "73\n",
            "71\n",
            "63\n",
            "1\n",
            "79\n",
            "78\n",
            "69\n",
            "75\n",
            "85\n"
          ]
        }
      ]
    },
    {
      "cell_type": "code",
      "source": [
        "#test\n",
        "#contenidoPorLineas=open(\"/content/drive/MyDrive/archivos_colab/songs.csv\").readlines()#readlines Lee todas las lineas del archivo\n",
        "#print(len(contenidoPorLineas))\n",
        "\n",
        "ciudad1={\"nombre\":\"envigado\",\"habitantes\":249800}\n",
        "ciudad2={\"nombre\":\"sabaneta\",\"habitantes\":87981}\n",
        "ciudad3={\"nombre\":\"rionegro\",\"habitantes\":147484}\n",
        "\n",
        "ciuadades=[ciudad1,ciudad2,ciudad3]\n",
        "acumulador = 0\n",
        "for ciudad in ciudades:\n",
        "  acumulador=acumulador#+ciudad[\"habitantes\"]\n",
        "\n",
        "promedio=len(ciudades)\n",
        "print(\"promedio de habitantes:\"+str(promedio))"
      ],
      "metadata": {
        "colab": {
          "base_uri": "https://localhost:8080/"
        },
        "id": "VbNLvvazSoEl",
        "outputId": "da405926-9091-4997-e8d6-f1dead76da65"
      },
      "execution_count": null,
      "outputs": [
        {
          "output_type": "stream",
          "name": "stdout",
          "text": [
            "promedio de habitantes:3\n"
          ]
        }
      ]
    },
    {
      "cell_type": "code",
      "source": [
        "contenidoPorLineas=open(\"/content/drive/MyDrive/archivos_colab/songs.csv\").readlines()#readlines Lee todas las lineas del archivo\n",
        "anio=input(\"ingrese el año de la cancion:\")"
      ],
      "metadata": {
        "id": "KvjZ96NJrsQk",
        "colab": {
          "base_uri": "https://localhost:8080/"
        },
        "outputId": "ee5c002b-aa4b-40fa-8c54-9548de7c727b"
      },
      "execution_count": 3,
      "outputs": [
        {
          "name": "stdout",
          "output_type": "stream",
          "text": [
            "ingrese el año de la cancion:2019\n"
          ]
        }
      ]
    },
    {
      "cell_type": "code",
      "source": [
        "producto1={\"nombre\":\"monitor\", \"precio\":119}\n",
        "producto2={\"nombre\":\"mouese\",\"precio\":6}\n",
        "listaProductos=[]\n",
        "listaProductos.append(producto1)\n",
        "listaProductos.append(producto2)\n",
        "print(listaProductos)\n",
        "print(listaProductos[0])\n",
        "print(listaProductos[0][\"nombre\"])\n",
        "\n",
        "print(listaProductos[1])"
      ],
      "metadata": {
        "colab": {
          "base_uri": "https://localhost:8080/"
        },
        "id": "h1YihCsLdgbW",
        "outputId": "da696b32-30fd-497e-bd71-0ed03525fec6"
      },
      "execution_count": 1,
      "outputs": [
        {
          "output_type": "stream",
          "name": "stdout",
          "text": [
            "[{'nombre': 'monitor', 'precio': 119}, {'nombre': 'mouese', 'precio': 6}]\n",
            "{'nombre': 'monitor', 'precio': 119}\n",
            "monitor\n",
            "{'nombre': 'mouese', 'precio': 6}\n"
          ]
        }
      ]
    }
  ]
}