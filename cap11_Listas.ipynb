{
  "nbformat": 4,
  "nbformat_minor": 0,
  "metadata": {
    "colab": {
      "provenance": [],
      "authorship_tag": "ABX9TyO2xQrUZTvxCbJQe2uBRoJx",
      "include_colab_link": true
    },
    "kernelspec": {
      "name": "python3",
      "display_name": "Python 3"
    },
    "language_info": {
      "name": "python"
    }
  },
  "cells": [
    {
      "cell_type": "markdown",
      "metadata": {
        "id": "view-in-github",
        "colab_type": "text"
      },
      "source": [
        "<a href=\"https://colab.research.google.com/github/alexgar76/curso_python/blob/main/cap11_Listas.ipynb\" target=\"_parent\"><img src=\"https://colab.research.google.com/assets/colab-badge.svg\" alt=\"Open In Colab\"/></a>"
      ]
    },
    {
      "cell_type": "code",
      "execution_count": null,
      "metadata": {
        "colab": {
          "base_uri": "https://localhost:8080/"
        },
        "id": "XvFr8C5vAoU7",
        "outputId": "cfcd711e-c897-465a-ce26-0136af0b3cf7"
      },
      "outputs": [
        {
          "output_type": "stream",
          "name": "stdout",
          "text": [
            "['pedro', 'pablo', 'luis']\n",
            "<class 'list'>\n"
          ]
        }
      ],
      "source": [
        "nombres=[\"pedro\", \"pablo\",\"luis\"]\n",
        "print(nombres)\n",
        "print(type(nombres))"
      ]
    },
    {
      "cell_type": "code",
      "source": [
        "artistas=[\"cantante1\",\"cantante2\",\"cantante3\",\"cantante4\"]\n",
        "artista1=artistas[0]\n",
        "print(len(artistas))\n",
        "print(artista1)\n",
        "print(artistas[2])\n",
        "print(artistas[len(artistas)-1])"
      ],
      "metadata": {
        "colab": {
          "base_uri": "https://localhost:8080/"
        },
        "id": "4PCjGzrWbKLr",
        "outputId": "cbafa70e-f3bf-45dc-9965-807a4a24ab7a"
      },
      "execution_count": null,
      "outputs": [
        {
          "output_type": "stream",
          "name": "stdout",
          "text": [
            "4\n",
            "cantante1\n",
            "cantante3\n",
            "cantante4\n"
          ]
        }
      ]
    },
    {
      "cell_type": "code",
      "source": [
        "#modificar lista\n",
        "motocicletas=[\"honda\",\"yamaha\",\"susuki\"]\n",
        "print(motocicletas[0])\n",
        "motocicletas[0]=\"ducati\"\n",
        "print(motocicletas[0])"
      ],
      "metadata": {
        "colab": {
          "base_uri": "https://localhost:8080/"
        },
        "id": "r-J2GI9mJl9C",
        "outputId": "c9835834-50d9-4de6-da6d-4181097d4f5f"
      },
      "execution_count": null,
      "outputs": [
        {
          "output_type": "stream",
          "name": "stdout",
          "text": [
            "honda\n",
            "ducati\n"
          ]
        }
      ]
    },
    {
      "cell_type": "code",
      "source": [
        "#agregar elementos a lista\n",
        "aliens=[]\n",
        "aliens.append(\"ET\")\n",
        "aliens.append(\"goku\")\n",
        "aliens.append(\"Marvin\")\n",
        "aliens.append(\"Gaqzoo\")\n",
        "print(aliens[3])\n"
      ],
      "metadata": {
        "colab": {
          "base_uri": "https://localhost:8080/"
        },
        "id": "j-3Pv2NfL8jp",
        "outputId": "c9af9f51-e580-4927-c9f8-0a91febf636b"
      },
      "execution_count": null,
      "outputs": [
        {
          "output_type": "stream",
          "name": "stdout",
          "text": [
            "Gaqzoo\n"
          ]
        }
      ]
    },
    {
      "cell_type": "code",
      "source": [
        "from collections import Counter\n",
        "#eliminar elemento de lista\n",
        "aliens=[\"et\",\"goku\",\"marvin\",\"gazoo\"]\n",
        "print(aliens[1])\n",
        "print(len(aliens))\n",
        "aliens.pop(1)\n",
        "print(aliens[1])\n",
        "print(Counter(aliens))\n"
      ],
      "metadata": {
        "colab": {
          "base_uri": "https://localhost:8080/"
        },
        "id": "LZj3yfkHMhEQ",
        "outputId": "e88210f9-b2ed-4c07-dd45-9e9fc74511de"
      },
      "execution_count": null,
      "outputs": [
        {
          "output_type": "stream",
          "name": "stdout",
          "text": [
            "goku\n",
            "4\n",
            "marvin\n",
            "Counter({'et': 1, 'marvin': 1, 'gazoo': 1})\n"
          ]
        }
      ]
    },
    {
      "cell_type": "code",
      "source": [
        "#Recorrer elementos de una lista\n",
        "alienens=[\"depredador\",\"alien1\",\"alien2\",\"alien3\"]\n",
        "i=0\n",
        "while(i < len(alienens)):\n",
        "  print(alienens[i])\n",
        "  i=i+1"
      ],
      "metadata": {
        "colab": {
          "base_uri": "https://localhost:8080/"
        },
        "id": "nMI3eyg83Im5",
        "outputId": "8648a455-6924-40cc-a4e2-64b6c81063cb"
      },
      "execution_count": null,
      "outputs": [
        {
          "output_type": "stream",
          "name": "stdout",
          "text": [
            "depredador\n",
            "alien1\n",
            "alien2\n",
            "alien3\n"
          ]
        }
      ]
    },
    {
      "cell_type": "code",
      "source": [
        "#ejercici1\n",
        "lstColores=[\"blanco\",\"azul\",\"rojo\",\"verde\"]\n",
        "print(len(lstColores))\n",
        "print(lstColores[2])"
      ],
      "metadata": {
        "colab": {
          "base_uri": "https://localhost:8080/"
        },
        "id": "FBhnU5gSCx-5",
        "outputId": "c0ed28a0-483d-42c2-d33c-3ade4e5d5468"
      },
      "execution_count": null,
      "outputs": [
        {
          "output_type": "stream",
          "name": "stdout",
          "text": [
            "4\n",
            "rojo\n"
          ]
        }
      ]
    },
    {
      "cell_type": "code",
      "source": [
        "#ejercicio 2\n",
        "#ejercici1\n",
        "lstColores=[\"blanco\",\"azul\",\"rojo\",\"verde\"]\n",
        "print(lstColores[len(lstColores)])\n"
      ],
      "metadata": {
        "colab": {
          "base_uri": "https://localhost:8080/",
          "height": 176
        },
        "id": "UCeR6AmeDexk",
        "outputId": "16d83296-f74c-4a8a-b7c2-bf95b9b52d38"
      },
      "execution_count": null,
      "outputs": [
        {
          "output_type": "error",
          "ename": "IndexError",
          "evalue": "list index out of range",
          "traceback": [
            "\u001b[0;31m---------------------------------------------------------------------------\u001b[0m",
            "\u001b[0;31mIndexError\u001b[0m                                Traceback (most recent call last)",
            "\u001b[0;32m<ipython-input-4-0aa5eac9b7fe>\u001b[0m in \u001b[0;36m<cell line: 4>\u001b[0;34m()\u001b[0m\n\u001b[1;32m      2\u001b[0m \u001b[0;31m#ejercici1\u001b[0m\u001b[0;34m\u001b[0m\u001b[0;34m\u001b[0m\u001b[0m\n\u001b[1;32m      3\u001b[0m \u001b[0mlstColores\u001b[0m\u001b[0;34m=\u001b[0m\u001b[0;34m[\u001b[0m\u001b[0;34m\"blanco\"\u001b[0m\u001b[0;34m,\u001b[0m\u001b[0;34m\"azul\"\u001b[0m\u001b[0;34m,\u001b[0m\u001b[0;34m\"rojo\"\u001b[0m\u001b[0;34m,\u001b[0m\u001b[0;34m\"verde\"\u001b[0m\u001b[0;34m]\u001b[0m\u001b[0;34m\u001b[0m\u001b[0;34m\u001b[0m\u001b[0m\n\u001b[0;32m----> 4\u001b[0;31m \u001b[0mprint\u001b[0m\u001b[0;34m(\u001b[0m\u001b[0mlstColores\u001b[0m\u001b[0;34m[\u001b[0m\u001b[0mlen\u001b[0m\u001b[0;34m(\u001b[0m\u001b[0mlstColores\u001b[0m\u001b[0;34m)\u001b[0m\u001b[0;34m]\u001b[0m\u001b[0;34m)\u001b[0m\u001b[0;34m\u001b[0m\u001b[0;34m\u001b[0m\u001b[0m\n\u001b[0m",
            "\u001b[0;31mIndexError\u001b[0m: list index out of range"
          ]
        }
      ]
    },
    {
      "cell_type": "code",
      "source": [
        "#Ejercici Final\n",
        "artista1=input(\"ingresa el nombre del tu artista:\")\n",
        "artista2=input(\"ingresa el nombre del tu artista:\")\n",
        "artista3=input(\"ingresa el nombre del tu artista:\")\n",
        "artista4=input(\"ingresa el nombre del tu artista:\")\n",
        "artistas=[]\n",
        "artistas.append(artista1)\n",
        "artistas.append(artista2)\n",
        "artistas.append(artista3)\n",
        "artistas.append(artista4)\n",
        "print(artistas)"
      ],
      "metadata": {
        "colab": {
          "base_uri": "https://localhost:8080/"
        },
        "id": "NH7fWMi1tlb5",
        "outputId": "f8971a78-b24b-4014-c103-ac8e834cfa0a"
      },
      "execution_count": null,
      "outputs": [
        {
          "output_type": "stream",
          "name": "stdout",
          "text": [
            "ingresa el nombre del tu artista:luis\n",
            "ingresa el nombre del tu artista:paco\n",
            "ingresa el nombre del tu artista:pedo\n",
            "ingresa el nombre del tu artista:juan\n",
            "['luis', 'paco', 'pedo', 'juan']\n"
          ]
        }
      ]
    }
  ]
}