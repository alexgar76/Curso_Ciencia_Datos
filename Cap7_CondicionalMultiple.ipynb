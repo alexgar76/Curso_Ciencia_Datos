{
  "nbformat": 4,
  "nbformat_minor": 0,
  "metadata": {
    "colab": {
      "provenance": [],
      "authorship_tag": "ABX9TyMrNKf6CnAqvcdq6GwxRz7x",
      "include_colab_link": true
    },
    "kernelspec": {
      "name": "python3",
      "display_name": "Python 3"
    },
    "language_info": {
      "name": "python"
    }
  },
  "cells": [
    {
      "cell_type": "markdown",
      "metadata": {
        "id": "view-in-github",
        "colab_type": "text"
      },
      "source": [
        "<a href=\"https://colab.research.google.com/github/alexgar76/curso_python/blob/main/Cap7_CondicionalMultiple.ipynb\" target=\"_parent\"><img src=\"https://colab.research.google.com/assets/colab-badge.svg\" alt=\"Open In Colab\"/></a>"
      ]
    },
    {
      "cell_type": "code",
      "execution_count": 6,
      "metadata": {
        "id": "NfLAnSIH6f8v",
        "colab": {
          "base_uri": "https://localhost:8080/"
        },
        "outputId": "81398c90-84dd-43fc-9a6c-8990c870dc5d"
      },
      "outputs": [
        {
          "output_type": "stream",
          "name": "stdout",
          "text": [
            "Ingrese el lado del cuadrado: 0\n",
            "no existe cuadrados con valores negativos \n"
          ]
        }
      ],
      "source": [
        "lado=float(input(\"Ingrese el lado del cuadrado: \"))\n",
        "if(lado > 0):\n",
        "  area = lado * lado\n",
        "  print(\"el cuadrado es de \",str(area))\n",
        "else:\n",
        "  print(\"no existe cuadrados con valores negativos \")\n",
        ""
      ]
    },
    {
      "cell_type": "code",
      "source": [
        "temperatura=float(input(\"Cual es la temperatura: \"))\n",
        "if(temperatura>=27):\n",
        "  print(\"Comprar helado\")\n",
        "elif(temperatura==15):\n",
        "  print(\"comprar chocolate\")\n",
        "else:\n",
        "  print(\"comprar jugo de naranja\")\n"
      ],
      "metadata": {
        "colab": {
          "base_uri": "https://localhost:8080/"
        },
        "id": "W7EPoDj7mUKQ",
        "outputId": "c138c76b-1dbc-43e2-af69-1805aaa3a40d"
      },
      "execution_count": 6,
      "outputs": [
        {
          "output_type": "stream",
          "name": "stdout",
          "text": [
            "Cual es la temperatura: 7\n",
            "comprar jugo de naranja\n"
          ]
        }
      ]
    },
    {
      "cell_type": "code",
      "source": [
        "#IF anidados#\n",
        "tipoAtraccion=int(input(\"Tipo de Atracion: 1)Montaña, 2)Tren \"))\n",
        "if(tipoAtraccion==1):\n",
        "  estatura=float(input(\"Cual es su estatura: \"))\n",
        "  if(estatura>=1.61):\n",
        "   print(\"divierte en la montaña rusa\")\n",
        "  else:\n",
        "    print(\"Estura NO permitida\")\n",
        "elif(tipoAtraccion==2):\n",
        "     print(\"Disfruta el tren\")\n",
        "print(\"fin de program\")"
      ],
      "metadata": {
        "colab": {
          "base_uri": "https://localhost:8080/"
        },
        "id": "OtQOmnk3q13G",
        "outputId": "cf7a11c1-2456-4e20-e848-cba4515cd696"
      },
      "execution_count": 13,
      "outputs": [
        {
          "output_type": "stream",
          "name": "stdout",
          "text": [
            "Tipo de Atracion: 1)Montaña, 2)Tren 1\n",
            "Cual es su estatura: 1.60\n",
            "Estura NO permitida\n",
            "fin de program\n"
          ]
        }
      ]
    },
    {
      "cell_type": "code",
      "source": [
        "#Ejercicio 1#\n",
        "generoMusica=str(input(\"Ingresa tu genero de Musica:\"))\n",
        "if(generoMusica=='rock'):\n",
        "  print(\"tienes buen gusto musical\")\n",
        "else:\n",
        " print(\"Que mal gusto de musica\")\n",
        "print(\"fin de programa\")"
      ],
      "metadata": {
        "colab": {
          "base_uri": "https://localhost:8080/"
        },
        "id": "Sg91E1-7uxXD",
        "outputId": "f82a15a8-b499-4205-b957-4a8cb1e0f01d"
      },
      "execution_count": 17,
      "outputs": [
        {
          "output_type": "stream",
          "name": "stdout",
          "text": [
            "Ingresa tu genero de Musica:ROCK\n",
            "Que mal gusto de musica\n",
            "fin de programa\n"
          ]
        }
      ]
    },
    {
      "cell_type": "code",
      "source": [
        "#Ejercicio 2#\n",
        "nombreEstudiante1=str(input(\"Nombre del primer Estudiante 1: \"))\n",
        "votacionEstudiante1=int(input(\"Cuantos votos obtuvo estudiante 1: \"))\n",
        "nombreEstudiante2=str(input(\"Nombre del segundo Estudiante: \"))\n",
        "votacionEstudiante2=int(input(\"Cuantos votos obtuvo estudiante 2: \"))\n",
        "if(votacionEstudiante1 > votacionEstudiante2):\n",
        "  print(\"el ganador es \",nombreEstudiante1, \"con un voto total de\",votacionEstudiante1)\n",
        "if(votacionEstudiante2 > votacionEstudiante1):\n",
        "  print(\"el ganador es \",nombreEstudiante2, \"con un voto total de\",votacionEstudiante2)\n",
        "if(votacionEstudiante1 == votacionEstudiante2):\n",
        "  print(\"es un empate\")\n",
        "print(\"fin de program\")\n"
      ],
      "metadata": {
        "colab": {
          "base_uri": "https://localhost:8080/"
        },
        "id": "LoS_vRl6v7Zq",
        "outputId": "d79623ae-981e-4169-c153-4977ab2c941a"
      },
      "execution_count": 36,
      "outputs": [
        {
          "output_type": "stream",
          "name": "stdout",
          "text": [
            "Nombre del primer Estudiante 1: alex\n",
            "Cuantos votos obtuvo estudiante 1: 25\n",
            "Nombre del segundo Estudiante: gar\n",
            "Cuantos votos obtuvo estudiante 2: 50\n",
            "el ganador es  gar con un voto total de 50\n",
            "fin de program\n"
          ]
        }
      ]
    }
  ]
}