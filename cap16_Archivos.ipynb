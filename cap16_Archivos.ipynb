{
  "nbformat": 4,
  "nbformat_minor": 0,
  "metadata": {
    "colab": {
      "provenance": [],
      "mount_file_id": "1rImkvfsmsFOptTxEhhyXSsmtOYqNFLBo",
      "authorship_tag": "ABX9TyMZbGjBI4av1rJDR3LKMH8a",
      "include_colab_link": true
    },
    "kernelspec": {
      "name": "python3",
      "display_name": "Python 3"
    },
    "language_info": {
      "name": "python"
    }
  },
  "cells": [
    {
      "cell_type": "markdown",
      "metadata": {
        "id": "view-in-github",
        "colab_type": "text"
      },
      "source": [
        "<a href=\"https://colab.research.google.com/github/alexgar76/curso_python/blob/main/cap16_Archivos.ipynb\" target=\"_parent\"><img src=\"https://colab.research.google.com/assets/colab-badge.svg\" alt=\"Open In Colab\"/></a>"
      ]
    },
    {
      "cell_type": "code",
      "execution_count": 6,
      "metadata": {
        "id": "zdn-4v8YAavg",
        "colab": {
          "base_uri": "https://localhost:8080/"
        },
        "outputId": "f5d39c0a-e2f1-43aa-bea8-fe5ce292f2c2"
      },
      "outputs": [
        {
          "output_type": "stream",
          "name": "stdout",
          "text": [
            "150,15,1200\n"
          ]
        }
      ],
      "source": [
        "#ejemplo1/content/sample_data/\n",
        "archivoAhorros=open(\"/content/drive/MyDrive/archivos_colab/ahorros.txt.txt\")\n",
        "contenidoArchivo=archivoAhorros.read()\n",
        "print(contenidoArchivo)"
      ]
    },
    {
      "cell_type": "code",
      "source": [
        "#ejm 2 abrir archivo con delimitador split\n",
        "archivoAhorros=open(\"/content/drive/MyDrive/archivos_colab/ahorros.txt.txt\")\n",
        "contenidoArchivo=archivoAhorros.read()\n",
        "ahorros=contenidoArchivo.split(\",\")\n",
        "\n",
        "print(ahorros)\n",
        "print(len(ahorros))\n",
        "print(ahorros[0])"
      ],
      "metadata": {
        "colab": {
          "base_uri": "https://localhost:8080/"
        },
        "id": "oRKWHKgkUoSW",
        "outputId": "7de04ea3-1125-460f-a0ee-5491512798d1"
      },
      "execution_count": 9,
      "outputs": [
        {
          "output_type": "stream",
          "name": "stdout",
          "text": [
            "['150', '15', '1200']\n",
            "3\n",
            "150\n"
          ]
        }
      ]
    }
  ]
}