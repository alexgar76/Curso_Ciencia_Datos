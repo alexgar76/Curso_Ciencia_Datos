{
  "nbformat": 4,
  "nbformat_minor": 0,
  "metadata": {
    "colab": {
      "provenance": [],
      "authorship_tag": "ABX9TyNA2+nGKxeM6gsiTXmqHft2",
      "include_colab_link": true
    },
    "kernelspec": {
      "name": "python3",
      "display_name": "Python 3"
    },
    "language_info": {
      "name": "python"
    }
  },
  "cells": [
    {
      "cell_type": "markdown",
      "metadata": {
        "id": "view-in-github",
        "colab_type": "text"
      },
      "source": [
        "<a href=\"https://colab.research.google.com/github/alexgar76/Curso_Ciencia_Datos/blob/main/ADW_Conect.ipynb\" target=\"_parent\"><img src=\"https://colab.research.google.com/assets/colab-badge.svg\" alt=\"Open In Colab\"/></a>"
      ]
    },
    {
      "cell_type": "code",
      "execution_count": null,
      "metadata": {
        "colab": {
          "base_uri": "https://localhost:8080/"
        },
        "id": "4t0RTPuvElBd",
        "outputId": "a3708966-71a6-44ab-e3be-8b9cbc09a428"
      },
      "outputs": [
        {
          "output_type": "execute_result",
          "data": {
            "text/plain": [
              "[name: \"/device:CPU:0\"\n",
              " device_type: \"CPU\"\n",
              " memory_limit: 268435456\n",
              " locality {\n",
              " }\n",
              " incarnation: 6860317125374631113\n",
              " xla_global_id: -1]"
            ]
          },
          "metadata": {},
          "execution_count": 1
        }
      ],
      "source": [
        "from tensorflow.python.client import device_lib\n",
        "device_lib.list_local_devices()"
      ]
    },
    {
      "cell_type": "code",
      "source": [
        "import seaborn as sns\n",
        "import numpy as np\n",
        "import pandas as ps\n",
        "\n"
      ],
      "metadata": {
        "id": "nfbQ93VrUuPa"
      },
      "execution_count": 1,
      "outputs": []
    },
    {
      "cell_type": "code",
      "source": [
        "#Importar rrepositori de Github\n",
        "!git clone https://github.com/alexgar76/Curso_Ciencia_Datos.git"
      ],
      "metadata": {
        "colab": {
          "base_uri": "https://localhost:8080/"
        },
        "id": "-p2unzyDWH5P",
        "outputId": "314e49d8-71da-47f0-96c5-4fd8a43608cd"
      },
      "execution_count": 14,
      "outputs": [
        {
          "output_type": "stream",
          "name": "stdout",
          "text": [
            "fatal: destination path 'Curso_Ciencia_Datos' already exists and is not an empty directory.\n"
          ]
        }
      ]
    },
    {
      "cell_type": "code",
      "source": [
        "import pandas as pd\n",
        "url_archivo_raw= \"/content/Curso_Ciencia_Datos/songs2.csv\"\n",
        "df = pd.read_csv(url_archivo_raw)\n",
        "print(df.head())"
      ],
      "metadata": {
        "colab": {
          "base_uri": "https://localhost:8080/"
        },
        "id": "_Z17MZJEZ5ED",
        "outputId": "37400c98-49d4-4aee-edd5-0bc4e834d04c"
      },
      "execution_count": 24,
      "outputs": [
        {
          "output_type": "stream",
          "name": "stdout",
          "text": [
            "           artist                    song  duration_ms  explicit  year  \\\n",
            "0  Britney Spears  Oops!...I Did It Again       211160     False  2000   \n",
            "1       blink-182    All The Small Things       167066     False  1999   \n",
            "2      Faith Hill                 Breathe       250546     False  1999   \n",
            "3        Bon Jovi            It's My Life       224493     False  2000   \n",
            "4          *NSYNC             Bye Bye Bye       200560     False  2000   \n",
            "\n",
            "   popularity  danceability  energy  key  loudness  modo  speechiness  \\\n",
            "0          77         0.751   0.834    1    -5.444     0       0.0437   \n",
            "1          79         0.434   0.897    0    -4.918     1       0.0488   \n",
            "2          66         0.529   0.496    7    -9.007     1       0.0290   \n",
            "3          78         0.551   0.913    0    -4.063     0       0.0466   \n",
            "4          65         0.614   0.928    8    -4.806     0       0.0516   \n",
            "\n",
            "   acousticness  instrumentalness  liveness  valence    tempo         genre  \n",
            "0        0.3000          0.000018    0.3550    0.894   95.053           pop  \n",
            "1        0.0103          0.000000    0.6120    0.684  148.726     rock, pop  \n",
            "2        0.1730          0.000000    0.2510    0.278  136.859  pop, country  \n",
            "3        0.0263          0.000013    0.3470    0.544  119.992   rock, metal  \n",
            "4        0.0408          0.001040    0.0845    0.879  172.656           pop  \n"
          ]
        }
      ]
    }
  ]
}