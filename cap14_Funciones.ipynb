{
  "nbformat": 4,
  "nbformat_minor": 0,
  "metadata": {
    "colab": {
      "provenance": [],
      "authorship_tag": "ABX9TyO1RksWPukbeCS7Ma1dVnY+",
      "include_colab_link": true
    },
    "kernelspec": {
      "name": "python3",
      "display_name": "Python 3"
    },
    "language_info": {
      "name": "python"
    }
  },
  "cells": [
    {
      "cell_type": "markdown",
      "metadata": {
        "id": "view-in-github",
        "colab_type": "text"
      },
      "source": [
        "<a href=\"https://colab.research.google.com/github/alexgar76/curso_python/blob/main/cap14_Funciones.ipynb\" target=\"_parent\"><img src=\"https://colab.research.google.com/assets/colab-badge.svg\" alt=\"Open In Colab\"/></a>"
      ]
    },
    {
      "cell_type": "code",
      "execution_count": 1,
      "metadata": {
        "colab": {
          "base_uri": "https://localhost:8080/"
        },
        "id": "PIQTYS36z0Gy",
        "outputId": "0065ca12-0282-4085-fca1-be40f8855fbe"
      },
      "outputs": [
        {
          "output_type": "stream",
          "name": "stdout",
          "text": [
            "Bienvenido\n",
            "A mi program\n",
            "fin de programa\n"
          ]
        }
      ],
      "source": [
        "#ejm 1\n",
        "def saludar():\n",
        "  print(\"Bienvenido\")\n",
        "  print(\"A mi program\")\n",
        "saludar()\n",
        "print(\"fin de programa\")"
      ]
    },
    {
      "cell_type": "code",
      "source": [
        "#ejm 2\n",
        "def saludoPersonalizado(nombre,apellido):\n",
        "  print(\"hola \"+nombre+\"\"+apellido)\n",
        "\n",
        "saludoPersonalizado(\"juliana \",\"correa\")\n",
        "saludoPersonalizado(\"Gonzalo \",\"Velasquez\")\n"
      ],
      "metadata": {
        "colab": {
          "base_uri": "https://localhost:8080/"
        },
        "id": "4F4aYsAu4982",
        "outputId": "0b915a88-7f90-4167-96e2-1c1c9b3fbdd9"
      },
      "execution_count": 3,
      "outputs": [
        {
          "output_type": "stream",
          "name": "stdout",
          "text": [
            "hola juliana correa\n",
            "hola Gonzalo Velasquez\n"
          ]
        }
      ]
    },
    {
      "cell_type": "code",
      "source": [
        "#ejm 3\n",
        "def sumar(num1,num2):\n",
        "  suma=num1+num2\n",
        "  print(suma)\n",
        "\n",
        "sumar(5,10)\n"
      ],
      "metadata": {
        "colab": {
          "base_uri": "https://localhost:8080/"
        },
        "id": "riGBexeZ5x_i",
        "outputId": "fa1e9a01-6e9c-4b76-c996-b5c57bfbb6c6"
      },
      "execution_count": 1,
      "outputs": [
        {
          "output_type": "stream",
          "name": "stdout",
          "text": [
            "15\n"
          ]
        }
      ]
    },
    {
      "cell_type": "code",
      "source": [
        "#ejm 4\n",
        "def calcularPrecioFinal(precio):\n",
        "  precioFinal=precio + impuestos\n",
        "  print(precioFinal)\n",
        "\n",
        "impuestos=10\n",
        "calcularPrecioFinal(500)"
      ],
      "metadata": {
        "colab": {
          "base_uri": "https://localhost:8080/"
        },
        "id": "Qy89PNXnsVB7",
        "outputId": "12b02894-b221-4b10-ae50-50e9561a1c53"
      },
      "execution_count": 8,
      "outputs": [
        {
          "output_type": "stream",
          "name": "stdout",
          "text": [
            "510\n"
          ]
        }
      ]
    },
    {
      "cell_type": "code",
      "source": [
        "#Ejm 5 funcion con retorno\n",
        "def calcularMulta(diasDeRetraso):\n",
        "  if(diasDeRetraso > 7):\n",
        "    return diasDeRetraso * 2\n",
        "  else:\n",
        "    return 0\n",
        "dias=int(input(\"Ingrese los dias de retraso: \"))\n",
        "multa=calcularMulta(dias)\n",
        "print(\"Debe pagar \"+str(multa)+\" dolares de multa \")\n",
        ""
      ],
      "metadata": {
        "colab": {
          "base_uri": "https://localhost:8080/"
        },
        "id": "dgCr9D1yxcgK",
        "outputId": "d65ba3ad-a8c2-4611-a960-c12acbc7bf57"
      },
      "execution_count": 22,
      "outputs": [
        {
          "output_type": "stream",
          "name": "stdout",
          "text": [
            "Ingrese los dias de retraso: 9\n",
            "Debe pagar 18 dolares de multa \n"
          ]
        }
      ]
    },
    {
      "cell_type": "code",
      "source": [
        "#ejm 5 calculadora\n",
        "def sumar():\n",
        "  num1=float(input(\"Ingrese el primer numero: \"))\n",
        "  num2=float(input(\"Ingrese el segundo numero: \"))\n",
        "  resultado=num1 + num2\n",
        "  print(\"La suma es \"+str(resultado))\n",
        "def restar():\n",
        "  num1=float(input(\"Ingrese el primer numero: \"))\n",
        "  num2=float(input(\"Ingrese el segundo numero: \"))\n",
        "  resultado=num1 - num2\n",
        "  print(\"La resta es \"+str(resultado))\n",
        "\n",
        "while(True):\n",
        " print(\"---Ingrese--\")\n",
        " print(\"1) sumar\")\n",
        " print(\"2) restar\")\n",
        " print(\"0) Salir\")\n",
        " opcion=int(input())\n",
        " if(opcion == 1):\n",
        "  sumar()\n",
        " elif(opcion == 2):\n",
        "  restar()\n",
        " elif(opcion==0):\n",
        "  print(\"chao\")\n",
        "  break"
      ],
      "metadata": {
        "colab": {
          "base_uri": "https://localhost:8080/"
        },
        "id": "orxKuh3O5Krj",
        "outputId": "5ac638bd-843b-467a-eead-0ad930c540a2"
      },
      "execution_count": 44,
      "outputs": [
        {
          "output_type": "stream",
          "name": "stdout",
          "text": [
            "---Ingrese--\n",
            "1) sumar\n",
            "2) restar\n",
            "0) Salir\n",
            "2\n",
            "Ingrese el primer numero: 3\n",
            "Ingrese el segundo numero: 5\n",
            "La resta es -2.0\n",
            "---Ingrese--\n",
            "1) sumar\n",
            "2) restar\n",
            "0) Salir\n",
            "1\n",
            "Ingrese el primer numero: 3\n",
            "Ingrese el segundo numero: 5\n",
            "La suma es 8.0\n",
            "---Ingrese--\n",
            "1) sumar\n",
            "2) restar\n",
            "0) Salir\n",
            "0\n",
            "chao\n"
          ]
        }
      ]
    },
    {
      "cell_type": "code",
      "source": [
        "#ejercicio 1\n",
        "def mensajeraro(mensaje):\n",
        "  print(\"hola \"+mensaje+\" hola \")\n",
        "mensajeraro(\"edificio\")"
      ],
      "metadata": {
        "colab": {
          "base_uri": "https://localhost:8080/"
        },
        "id": "L3auc6LnFNfh",
        "outputId": "6c1ed8ab-548f-4d9a-847e-703421eba1f7"
      },
      "execution_count": 49,
      "outputs": [
        {
          "output_type": "stream",
          "name": "stdout",
          "text": [
            "hola edificio hola \n"
          ]
        }
      ]
    },
    {
      "cell_type": "code",
      "source": [
        "#ejercicio 2\n",
        "def loteria(numero):\n",
        "  if(numero == 88):\n",
        "    print(\"Ganador\")\n",
        "loteria(67)\n",
        "loteria(88)"
      ],
      "metadata": {
        "colab": {
          "base_uri": "https://localhost:8080/"
        },
        "id": "1FDrksVmHl5x",
        "outputId": "079d5b34-3da8-4761-9a1f-92129243aeda"
      },
      "execution_count": 53,
      "outputs": [
        {
          "output_type": "stream",
          "name": "stdout",
          "text": [
            "Ganador\n"
          ]
        }
      ]
    },
    {
      "cell_type": "code",
      "source": [
        "#ejercicio 3\n",
        "def primerNombre(nombres):\n",
        "  nombres=[\"Zeus\",\"poseidon\",\"ares\"]\n",
        "  print(nombres[0])\n",
        "primerNombre(nombres)"
      ],
      "metadata": {
        "colab": {
          "base_uri": "https://localhost:8080/"
        },
        "id": "HhI--inK8ovM",
        "outputId": "1e2c271f-e86d-4afd-8531-0066af805eeb"
      },
      "execution_count": 9,
      "outputs": [
        {
          "output_type": "stream",
          "name": "stdout",
          "text": [
            "Zeus\n"
          ]
        }
      ]
    },
    {
      "cell_type": "code",
      "source": [
        "#ejercicio 3\n",
        "def sumar():\n",
        "  num1=float(input(\"Ingrese el primer numero: \"))\n",
        "  num2=float(input(\"Ingrese el segundo numero: \"))\n",
        "  resultado=num1 + num2\n",
        "  print(\"La suma es \"+str(resultado))\n",
        "def restar():\n",
        "  num1=float(input(\"Ingrese el primer numero: \"))\n",
        "  num2=float(input(\"Ingrese el segundo numero: \"))\n",
        "  resultado=num1 - num2\n",
        "  print(\"La resta es \"+str(resultado))\n",
        "def multiplicar():\n",
        "  num1=float(input(\"Ingrese el primer numero: \"))\n",
        "  num2=float(input(\"Ingrese el segundo numero: \"))\n",
        "  resultado=num1 * num2\n",
        "  print(\"La multiplicacion es \"+str(resultado))\n",
        "def division():\n",
        "  num1=float(input(\"Ingrese el primer numero: \"))\n",
        "  num2=float(input(\"Ingrese el segundo numero: \"))\n",
        "  if(num1 <= 0 or num2 <= 0):\n",
        "    print(\"No puede haber division por Cero\")\n",
        "  else:\n",
        "   resultado=num1 / num2\n",
        "   print(\"La division es \"+str(resultado))\n",
        "\n",
        "while(True):\n",
        " print(\"---Ingrese--\")\n",
        " print(\"1) sumar\")\n",
        " print(\"2) restar\")\n",
        " print(\"3) multiplicar\")\n",
        " print(\"4) division \")\n",
        " print(\"0) Salir\")\n",
        " opcion=int(input())\n",
        " if(opcion == 1):\n",
        "  sumar()\n",
        " elif(opcion == 2):\n",
        "  restar()\n",
        " elif(opcion == 3):\n",
        "  multiplicar()\n",
        " elif(opcion == 4):\n",
        "  division()\n",
        " elif(opcion==0):\n",
        "  print(\"chao\")\n",
        "  break"
      ],
      "metadata": {
        "colab": {
          "base_uri": "https://localhost:8080/"
        },
        "id": "wxtzft44xsKx",
        "outputId": "8bdfb200-20f3-4fa3-a9eb-1b802ca6c018"
      },
      "execution_count": 22,
      "outputs": [
        {
          "output_type": "stream",
          "name": "stdout",
          "text": [
            "---Ingrese--\n",
            "1) sumar\n",
            "2) restar\n",
            "3) multiplicar\n",
            "4) division \n",
            "0) Salir\n",
            "4\n",
            "Ingrese el primer numero: 5\n",
            "Ingrese el segundo numero: 0\n",
            "No puede haber division por Cero\n",
            "---Ingrese--\n",
            "1) sumar\n",
            "2) restar\n",
            "3) multiplicar\n",
            "4) division \n",
            "0) Salir\n",
            "4\n",
            "Ingrese el primer numero: 4\n",
            "Ingrese el segundo numero: 6\n",
            "La division es 0.6666666666666666\n",
            "---Ingrese--\n",
            "1) sumar\n",
            "2) restar\n",
            "3) multiplicar\n",
            "4) division \n",
            "0) Salir\n",
            "0\n",
            "chao\n"
          ]
        }
      ]
    }
  ]
}